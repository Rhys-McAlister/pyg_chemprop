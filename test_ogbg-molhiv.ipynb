{
 "cells": [
  {
   "cell_type": "markdown",
   "id": "2d2abcd5",
   "metadata": {},
   "source": [
    "# Molecular Property Prediction by ChemProp"
   ]
  },
  {
   "cell_type": "markdown",
   "id": "ebcd5e48-1a6b-49e4-b71b-5e387f1859e9",
   "metadata": {},
   "source": [
    "data: https://ogb.stanford.edu/docs/graphprop/"
   ]
  },
  {
   "cell_type": "code",
   "execution_count": 1,
   "id": "2e8e2218",
   "metadata": {},
   "outputs": [
    {
     "name": "stderr",
     "output_type": "stream",
     "text": [
      "Using backend: pytorch\n"
     ]
    }
   ],
   "source": [
    "import io\n",
    "import sys\n",
    "import zipfile\n",
    "\n",
    "import pandas as pd\n",
    "import requests\n",
    "import torch\n",
    "import torch.nn as nn\n",
    "from ogb.graphproppred import Evaluator, PygGraphPropPredDataset\n",
    "from sklearn.metrics import accuracy_score, roc_auc_score\n",
    "from torch_geometric.data import DataLoader\n",
    "from tqdm import tqdm\n",
    "\n",
    "from pyg_chemprop import DMPNNEncoder, RevIndexedDataset\n",
    "from pyg_chemprop_utils import FeatureScaler, NoamLR, initialize_weights, smiles2data"
   ]
  },
  {
   "cell_type": "code",
   "execution_count": 2,
   "id": "8b293d5c-d98e-457e-958c-6c0011805987",
   "metadata": {},
   "outputs": [],
   "source": [
    "data_dir = \"./data\""
   ]
  },
  {
   "cell_type": "markdown",
   "id": "26b03a5b",
   "metadata": {
    "tags": []
   },
   "source": [
    "## preparation"
   ]
  },
  {
   "cell_type": "code",
   "execution_count": 3,
   "id": "7c06ee29",
   "metadata": {},
   "outputs": [
    {
     "data": {
      "text/plain": [
       "'binary classification'"
      ]
     },
     "execution_count": 3,
     "metadata": {},
     "output_type": "execute_result"
    }
   ],
   "source": [
    "pyg_dataset = PygGraphPropPredDataset(name=\"ogbg-molhiv\", root=data_dir)\n",
    "split_idx = pyg_dataset.get_idx_split()\n",
    "pyg_dataset.task_type"
   ]
  },
  {
   "cell_type": "code",
   "execution_count": 4,
   "id": "5518ec4e-b524-4862-97d3-05902fa8e832",
   "metadata": {},
   "outputs": [
    {
     "name": "stderr",
     "output_type": "stream",
     "text": [
      "100%|██████████| 41127/41127 [00:47<00:00, 872.14it/s] \n"
     ]
    }
   ],
   "source": [
    "dataset = RevIndexedDataset(pyg_dataset)"
   ]
  },
  {
   "cell_type": "code",
   "execution_count": 5,
   "id": "9b963c73-477c-4d83-b0a3-d4767ee18f75",
   "metadata": {},
   "outputs": [],
   "source": [
    "batch_size = 50\n",
    "\n",
    "train_data = torch.utils.data.Subset(dataset, split_idx[\"train\"])\n",
    "valid_data = torch.utils.data.Subset(dataset, split_idx[\"valid\"])\n",
    "test_data = torch.utils.data.Subset(dataset, split_idx[\"test\"])\n",
    "\n",
    "train_loader = DataLoader(train_data, batch_size=batch_size, shuffle=True)\n",
    "valid_loader = DataLoader(valid_data, batch_size=batch_size, shuffle=False)\n",
    "test_loader = DataLoader(test_data, batch_size=batch_size, shuffle=False)"
   ]
  },
  {
   "cell_type": "code",
   "execution_count": 6,
   "id": "19ea0028-066b-41d2-bf17-93c4ad10ddf0",
   "metadata": {},
   "outputs": [],
   "source": [
    "def train(config, loader, device=torch.device(\"cpu\")):\n",
    "    criterion = config[\"loss\"]\n",
    "    model = config[\"model\"]\n",
    "    optimizer = config[\"optimizer\"]\n",
    "    scheduler = config[\"scheduler\"]\n",
    "\n",
    "    model = model.to(device)\n",
    "    model.train()\n",
    "    for batch in tqdm(loader, total=len(loader)):\n",
    "        batch = batch.to(device)\n",
    "        optimizer.zero_grad()\n",
    "        out = model(batch)\n",
    "        loss = criterion(out, batch.y.float())\n",
    "        loss.backward()\n",
    "        optimizer.step()\n",
    "        scheduler.step()"
   ]
  },
  {
   "cell_type": "code",
   "execution_count": 7,
   "id": "20a993d7-598e-47da-a4fe-a4ac1fd22a99",
   "metadata": {},
   "outputs": [],
   "source": [
    "def make_prediction(config, loader, device=torch.device(\"cpu\")):\n",
    "    model = config[\"model\"]\n",
    "\n",
    "    model = model.to(device)\n",
    "    model.eval()\n",
    "    y_pred = []\n",
    "    y_true = []\n",
    "    for batch in tqdm(loader, total=len(loader)):\n",
    "        batch = batch.to(device)\n",
    "        with torch.no_grad():\n",
    "            batch_preds = torch.sigmoid(model(batch))\n",
    "        y_pred.extend(batch_preds)\n",
    "        y_true.extend(batch.y)\n",
    "    return torch.stack(y_pred).cpu(), torch.stack(y_true).cpu()"
   ]
  },
  {
   "cell_type": "markdown",
   "id": "da7fd934",
   "metadata": {
    "tags": []
   },
   "source": [
    "## run test (cpu)"
   ]
  },
  {
   "cell_type": "code",
   "execution_count": 8,
   "id": "45196b34-f057-4aa0-a983-e8b02a9f7d26",
   "metadata": {},
   "outputs": [],
   "source": [
    "num_epochs = 3\n",
    "hidden_size = 300\n",
    "depth = 3\n",
    "out_dim = 1"
   ]
  },
  {
   "cell_type": "code",
   "execution_count": 9,
   "id": "ef2971ea-d9a1-4649-bdd1-71d2c895b90f",
   "metadata": {},
   "outputs": [],
   "source": [
    "head = nn.Sequential(\n",
    "    nn.Linear(hidden_size, hidden_size, bias=True),\n",
    "    nn.ReLU(),\n",
    "    nn.Linear(hidden_size, out_dim, bias=True),\n",
    ")\n",
    "model = nn.Sequential(\n",
    "    DMPNNEncoder(\n",
    "        hidden_size,\n",
    "        dataset.num_node_features,\n",
    "        dataset.num_edge_features,\n",
    "        depth,\n",
    "    ),\n",
    "    head,\n",
    ")\n",
    "initialize_weights(model)"
   ]
  },
  {
   "cell_type": "code",
   "execution_count": 10,
   "id": "b56b4c8a-b78b-4201-a18b-f1977b74ac41",
   "metadata": {},
   "outputs": [
    {
     "data": {
      "text/plain": [
       "(9, 3)"
      ]
     },
     "execution_count": 10,
     "metadata": {},
     "output_type": "execute_result"
    }
   ],
   "source": [
    "dataset.num_node_features, dataset.num_edge_features"
   ]
  },
  {
   "cell_type": "code",
   "execution_count": 11,
   "id": "abe73e25-d30d-44fd-aeb1-3e11990c5548",
   "metadata": {},
   "outputs": [
    {
     "data": {
      "text/plain": [
       "Sequential(\n",
       "  (0): DMPNNEncoder(\n",
       "    (act_func): ReLU()\n",
       "    (W1): Linear(in_features=12, out_features=300, bias=False)\n",
       "    (W2): Linear(in_features=300, out_features=300, bias=False)\n",
       "    (W3): Linear(in_features=309, out_features=300, bias=True)\n",
       "  )\n",
       "  (1): Sequential(\n",
       "    (0): Linear(in_features=300, out_features=300, bias=True)\n",
       "    (1): ReLU()\n",
       "    (2): Linear(in_features=300, out_features=1, bias=True)\n",
       "  )\n",
       ")"
      ]
     },
     "execution_count": 11,
     "metadata": {},
     "output_type": "execute_result"
    }
   ],
   "source": [
    "model"
   ]
  },
  {
   "cell_type": "code",
   "execution_count": 12,
   "id": "92c0a661",
   "metadata": {},
   "outputs": [],
   "source": [
    "optimizer = torch.optim.Adam(model.parameters(), lr=1e-4)\n",
    "criterion = nn.BCEWithLogitsLoss()\n",
    "scheduler = torch.optim.lr_scheduler.OneCycleLR(\n",
    "    optimizer, max_lr=1e-3, steps_per_epoch=len(train_loader), epochs=num_epochs\n",
    ")"
   ]
  },
  {
   "cell_type": "code",
   "execution_count": 13,
   "id": "a686620b",
   "metadata": {},
   "outputs": [],
   "source": [
    "config = {\n",
    "    \"loss\": criterion,\n",
    "    \"model\": model,\n",
    "    \"optimizer\": optimizer,\n",
    "    \"scheduler\": scheduler,\n",
    "}"
   ]
  },
  {
   "cell_type": "code",
   "execution_count": 14,
   "id": "edd3528c",
   "metadata": {},
   "outputs": [
    {
     "name": "stderr",
     "output_type": "stream",
     "text": [
      "Epoch 1\n",
      "100%|██████████| 659/659 [00:29<00:00, 22.48it/s]\n",
      "100%|██████████| 83/83 [00:01<00:00, 45.67it/s]\n",
      "val auc=0.679983 acc=0.980306\n",
      "Epoch 2\n",
      "100%|██████████| 659/659 [00:26<00:00, 24.59it/s]\n",
      "100%|██████████| 83/83 [00:01<00:00, 45.09it/s]\n",
      "val auc=0.737526 acc=0.980306\n",
      "Epoch 3\n",
      "100%|██████████| 659/659 [00:28<00:00, 22.95it/s]\n",
      "100%|██████████| 83/83 [00:01<00:00, 43.89it/s]\n",
      "val auc=0.723903 acc=0.980306\n"
     ]
    }
   ],
   "source": [
    "for epoch in range(num_epochs):\n",
    "    print(f\"Epoch {epoch+1}\", file=sys.stderr)\n",
    "    train(config, train_loader)\n",
    "    y_pred, y_true = make_prediction(config, valid_loader)\n",
    "    auc = roc_auc_score(y_true, y_pred)\n",
    "    acc = accuracy_score(y_true, (y_pred > 0.5).int())\n",
    "    print(f\"val auc={auc:.6} acc={acc:.6}\", file=sys.stderr)"
   ]
  },
  {
   "cell_type": "code",
   "execution_count": 15,
   "id": "03bf3b88",
   "metadata": {},
   "outputs": [
    {
     "name": "stderr",
     "output_type": "stream",
     "text": [
      "100%|██████████| 83/83 [00:01<00:00, 46.47it/s]\n",
      "test auc=0.676228 acc=0.968393\n"
     ]
    }
   ],
   "source": [
    "y_pred, y_true = make_prediction(config, test_loader)\n",
    "auc = roc_auc_score(y_true, y_pred)\n",
    "acc = accuracy_score(y_true, (y_pred > 0.5).int())\n",
    "print(f\"test auc={auc:.6} acc={acc:.6}\", file=sys.stderr)"
   ]
  },
  {
   "cell_type": "markdown",
   "id": "44882c32-5c5e-42a7-ae07-3625a60c1c87",
   "metadata": {
    "tags": []
   },
   "source": [
    "## run test (gpu)"
   ]
  },
  {
   "cell_type": "code",
   "execution_count": 16,
   "id": "e7381437-54cf-4683-a3e9-40d201000db3",
   "metadata": {},
   "outputs": [],
   "source": [
    "seed = 0\n",
    "torch.manual_seed(seed);"
   ]
  },
  {
   "cell_type": "code",
   "execution_count": 17,
   "id": "b3ee1a49-d8a5-4ece-bdd1-acd7e46ed4d3",
   "metadata": {},
   "outputs": [
    {
     "data": {
      "text/plain": [
       "True"
      ]
     },
     "execution_count": 17,
     "metadata": {},
     "output_type": "execute_result"
    }
   ],
   "source": [
    "torch.cuda.is_available()"
   ]
  },
  {
   "cell_type": "code",
   "execution_count": 18,
   "id": "732c1122-ad3a-4bed-abb0-a502dd0736f1",
   "metadata": {},
   "outputs": [],
   "source": [
    "cuda = torch.device(\"cuda\")"
   ]
  },
  {
   "cell_type": "code",
   "execution_count": 19,
   "id": "bdc793ef-0c3a-41a9-9599-aec374b95594",
   "metadata": {},
   "outputs": [
    {
     "data": {
      "text/plain": [
       "'A100-PCIE-40GB'"
      ]
     },
     "execution_count": 19,
     "metadata": {},
     "output_type": "execute_result"
    }
   ],
   "source": [
    "dev_id = torch.cuda.current_device()\n",
    "torch.cuda.get_device_name(dev_id)"
   ]
  },
  {
   "cell_type": "code",
   "execution_count": 20,
   "id": "23524a4b-13e9-4c49-8f12-ee3d4bfbec28",
   "metadata": {},
   "outputs": [],
   "source": [
    "num_epochs = 30\n",
    "hidden_size = 300\n",
    "depth = 3\n",
    "out_dim = 1"
   ]
  },
  {
   "cell_type": "code",
   "execution_count": 21,
   "id": "2b16129b-085a-485c-a748-4b509cc49306",
   "metadata": {},
   "outputs": [],
   "source": [
    "rate = 0.0\n",
    "head = nn.Sequential(\n",
    "    nn.Dropout(p=rate, inplace=False),\n",
    "    nn.Linear(hidden_size, hidden_size, bias=True),\n",
    "    nn.ReLU(),\n",
    "    nn.Dropout(p=rate, inplace=False),\n",
    "    nn.Linear(hidden_size, out_dim, bias=True),\n",
    ")\n",
    "model = nn.Sequential(\n",
    "    DMPNNEncoder(\n",
    "        hidden_size,\n",
    "        dataset.num_node_features,\n",
    "        dataset.num_edge_features,\n",
    "        depth,\n",
    "    ),\n",
    "    head,\n",
    ")\n",
    "initialize_weights(model)"
   ]
  },
  {
   "cell_type": "code",
   "execution_count": 22,
   "id": "99f9d59b-6469-40f1-876d-c6cab6cda433",
   "metadata": {},
   "outputs": [],
   "source": [
    "optimizer = torch.optim.Adam(model.parameters(), lr=1e-4)\n",
    "criterion = nn.BCEWithLogitsLoss()\n",
    "scheduler = torch.optim.lr_scheduler.OneCycleLR(\n",
    "    optimizer, max_lr=1e-3, steps_per_epoch=len(train_loader), epochs=num_epochs\n",
    ")"
   ]
  },
  {
   "cell_type": "code",
   "execution_count": 23,
   "id": "c864ecef-d1d4-4421-9fff-60c4d4ab0ba1",
   "metadata": {},
   "outputs": [],
   "source": [
    "config = {\n",
    "    \"loss\": criterion,\n",
    "    \"model\": model,\n",
    "    \"optimizer\": optimizer,\n",
    "    \"scheduler\": scheduler,\n",
    "}"
   ]
  },
  {
   "cell_type": "code",
   "execution_count": 24,
   "id": "b233e800-9aa3-41cc-a10d-9b35664c9a32",
   "metadata": {},
   "outputs": [],
   "source": [
    "best = {'epoch': -1, 'score': float(\"-inf\")}\n",
    "outfile = f\"{data_dir}/best_snapshot.pth\""
   ]
  },
  {
   "cell_type": "code",
   "execution_count": 25,
   "id": "3fb6169c-11e9-41c4-b29f-3d4e40cafc4a",
   "metadata": {},
   "outputs": [
    {
     "name": "stderr",
     "output_type": "stream",
     "text": [
      "Epoch 1\n",
      "100%|██████████| 659/659 [00:06<00:00, 107.46it/s]\n",
      "100%|██████████| 83/83 [00:00<00:00, 181.50it/s]\n",
      "* best-auc -inf ==> 0.639765\n",
      "val auc=0.639765 acc=0.980306\n",
      "Epoch 2\n",
      "100%|██████████| 659/659 [00:05<00:00, 121.40it/s]\n",
      "100%|██████████| 83/83 [00:00<00:00, 181.22it/s]\n",
      "* best-auc 0.639765 ==> 0.709512\n",
      "val auc=0.709512 acc=0.980306\n",
      "Epoch 3\n",
      "100%|██████████| 659/659 [00:05<00:00, 120.59it/s]\n",
      "100%|██████████| 83/83 [00:00<00:00, 177.98it/s]\n",
      "* best-auc 0.709512 ==> 0.710167\n",
      "val auc=0.710167 acc=0.980306\n",
      "Epoch 4\n",
      "100%|██████████| 659/659 [00:05<00:00, 120.77it/s]\n",
      "100%|██████████| 83/83 [00:00<00:00, 182.45it/s]\n",
      "val auc=0.674986 acc=0.980306\n",
      "Epoch 5\n",
      "100%|██████████| 659/659 [00:05<00:00, 121.57it/s]\n",
      "100%|██████████| 83/83 [00:00<00:00, 182.36it/s]\n",
      "* best-auc 0.710167 ==> 0.766522\n",
      "val auc=0.766522 acc=0.980306\n",
      "Epoch 6\n",
      "100%|██████████| 659/659 [00:04<00:00, 143.56it/s]\n",
      "100%|██████████| 83/83 [00:00<00:00, 218.42it/s]\n",
      "val auc=0.740398 acc=0.980306\n",
      "Epoch 7\n",
      "100%|██████████| 659/659 [00:04<00:00, 142.95it/s]\n",
      "100%|██████████| 83/83 [00:00<00:00, 217.65it/s]\n",
      "val auc=0.730664 acc=0.980549\n",
      "Epoch 8\n",
      "100%|██████████| 659/659 [00:04<00:00, 141.96it/s]\n",
      "100%|██████████| 83/83 [00:00<00:00, 219.77it/s]\n",
      "val auc=0.706703 acc=0.980306\n",
      "Epoch 9\n",
      "100%|██████████| 659/659 [00:04<00:00, 142.99it/s]\n",
      "100%|██████████| 83/83 [00:00<00:00, 220.65it/s]\n",
      "val auc=0.714062 acc=0.981522\n",
      "Epoch 10\n",
      "100%|██████████| 659/659 [00:04<00:00, 143.09it/s]\n",
      "100%|██████████| 83/83 [00:00<00:00, 220.77it/s]\n",
      "val auc=0.73267 acc=0.982008\n",
      "Epoch 11\n",
      "100%|██████████| 659/659 [00:04<00:00, 143.51it/s]\n",
      "100%|██████████| 83/83 [00:00<00:00, 220.46it/s]\n",
      "val auc=0.736662 acc=0.982738\n",
      "Epoch 12\n",
      "100%|██████████| 659/659 [00:04<00:00, 143.50it/s]\n",
      "100%|██████████| 83/83 [00:00<00:00, 181.91it/s]\n",
      "val auc=0.751598 acc=0.982008\n",
      "Epoch 13\n",
      "100%|██████████| 659/659 [00:05<00:00, 126.40it/s]\n",
      "100%|██████████| 83/83 [00:00<00:00, 216.66it/s]\n",
      "val auc=0.757915 acc=0.982008\n",
      "Epoch 14\n",
      "100%|██████████| 659/659 [00:04<00:00, 142.33it/s]\n",
      "100%|██████████| 83/83 [00:00<00:00, 218.26it/s]\n",
      "val auc=0.721619 acc=0.982008\n",
      "Epoch 15\n",
      "100%|██████████| 659/659 [00:04<00:00, 141.34it/s]\n",
      "100%|██████████| 83/83 [00:00<00:00, 217.90it/s]\n",
      "val auc=0.739706 acc=0.98371\n",
      "Epoch 16\n",
      "100%|██████████| 659/659 [00:04<00:00, 142.35it/s]\n",
      "100%|██████████| 83/83 [00:00<00:00, 219.62it/s]\n",
      "val auc=0.716527 acc=0.982251\n",
      "Epoch 17\n",
      "100%|██████████| 659/659 [00:04<00:00, 142.65it/s]\n",
      "100%|██████████| 83/83 [00:00<00:00, 219.38it/s]\n",
      "val auc=0.758959 acc=0.982738\n",
      "Epoch 18\n",
      "100%|██████████| 659/659 [00:04<00:00, 142.28it/s]\n",
      "100%|██████████| 83/83 [00:00<00:00, 219.07it/s]\n",
      "* best-auc 0.766522 ==> 0.77064\n",
      "val auc=0.77064 acc=0.982008\n",
      "Epoch 19\n",
      "100%|██████████| 659/659 [00:04<00:00, 143.35it/s]\n",
      "100%|██████████| 83/83 [00:00<00:00, 219.94it/s]\n",
      "val auc=0.746926 acc=0.979334\n",
      "Epoch 20\n",
      "100%|██████████| 659/659 [00:04<00:00, 143.57it/s]\n",
      "100%|██████████| 83/83 [00:00<00:00, 220.39it/s]\n",
      "val auc=0.75022 acc=0.982981\n",
      "Epoch 21\n",
      "100%|██████████| 659/659 [00:04<00:00, 143.85it/s]\n",
      "100%|██████████| 83/83 [00:00<00:00, 220.76it/s]\n",
      "val auc=0.74936 acc=0.982495\n",
      "Epoch 22\n",
      "100%|██████████| 659/659 [00:04<00:00, 143.64it/s]\n",
      "100%|██████████| 83/83 [00:00<00:00, 220.86it/s]\n",
      "val auc=0.766176 acc=0.980549\n",
      "Epoch 23\n",
      "100%|██████████| 659/659 [00:04<00:00, 141.48it/s]\n",
      "100%|██████████| 83/83 [00:00<00:00, 133.16it/s]\n",
      "val auc=0.763482 acc=0.981036\n",
      "Epoch 24\n",
      "100%|██████████| 659/659 [00:04<00:00, 137.77it/s]\n",
      "100%|██████████| 83/83 [00:00<00:00, 217.10it/s]\n",
      "* best-auc 0.77064 ==> 0.771712\n",
      "val auc=0.771712 acc=0.980793\n",
      "Epoch 25\n",
      "100%|██████████| 659/659 [00:04<00:00, 136.49it/s]\n",
      "100%|██████████| 83/83 [00:00<00:00, 218.18it/s]\n",
      "* best-auc 0.771712 ==> 0.772542\n",
      "val auc=0.772542 acc=0.979577\n",
      "Epoch 26\n",
      "100%|██████████| 659/659 [00:04<00:00, 137.64it/s]\n",
      "100%|██████████| 83/83 [00:00<00:00, 218.99it/s]\n",
      "* best-auc 0.772542 ==> 0.776675\n",
      "val auc=0.776675 acc=0.980793\n",
      "Epoch 27\n",
      "100%|██████████| 659/659 [00:04<00:00, 137.19it/s]\n",
      "100%|██████████| 83/83 [00:00<00:00, 215.78it/s]\n",
      "val auc=0.773375 acc=0.981036\n",
      "Epoch 28\n",
      "100%|██████████| 659/659 [00:04<00:00, 136.78it/s]\n",
      "100%|██████████| 83/83 [00:00<00:00, 218.96it/s]\n",
      "val auc=0.776158 acc=0.980306\n",
      "Epoch 29\n",
      "100%|██████████| 659/659 [00:04<00:00, 135.40it/s]\n",
      "100%|██████████| 83/83 [00:00<00:00, 181.99it/s]\n",
      "val auc=0.774648 acc=0.980549\n",
      "Epoch 30\n",
      "100%|██████████| 659/659 [00:05<00:00, 120.09it/s]\n",
      "100%|██████████| 83/83 [00:00<00:00, 181.86it/s]\n",
      "val auc=0.775243 acc=0.980793\n"
     ]
    }
   ],
   "source": [
    "for epoch in range(num_epochs):\n",
    "    print(f\"Epoch {epoch+1}\", file=sys.stderr)\n",
    "    train(config, train_loader, device=cuda)\n",
    "    y_pred, y_true = make_prediction(config, valid_loader, device=cuda)\n",
    "    auc = roc_auc_score(y_true, y_pred)\n",
    "    if auc > best['score']:\n",
    "        print(f\"* best-auc {best['score']:.6} ==> {auc:.6}\", file=sys.stderr)\n",
    "        best['score'] = auc\n",
    "        best['epoch'] = epoch+1\n",
    "        torch.save(model.state_dict(), outfile)\n",
    "    acc = accuracy_score(y_true, (y_pred > 0.5).int())\n",
    "    print(f\"val auc={auc:.6} acc={acc:.6}\", file=sys.stderr)"
   ]
  },
  {
   "cell_type": "code",
   "execution_count": 26,
   "id": "2e7bb594-61ad-41c2-9720-0cbca619e331",
   "metadata": {},
   "outputs": [
    {
     "name": "stdout",
     "output_type": "stream",
     "text": [
      "best validation auc = 0.7766754850088183 on epoch 26\n"
     ]
    }
   ],
   "source": [
    "print(f\"best validation auc = {best['score']} on epoch {best['epoch']}\")"
   ]
  },
  {
   "cell_type": "markdown",
   "id": "6a2f9b20-a802-40a8-9714-410b1b596f46",
   "metadata": {},
   "source": [
    "#### final "
   ]
  },
  {
   "cell_type": "code",
   "execution_count": 27,
   "id": "ecff8a60-9c86-401d-88fb-942a185b24a9",
   "metadata": {},
   "outputs": [
    {
     "name": "stderr",
     "output_type": "stream",
     "text": [
      "100%|██████████| 83/83 [00:00<00:00, 182.67it/s]\n",
      "test auc=0.734684 acc=0.967177\n"
     ]
    }
   ],
   "source": [
    "y_pred, y_true = make_prediction(config, test_loader, device=cuda)\n",
    "auc = roc_auc_score(y_true, y_pred)\n",
    "acc = accuracy_score(y_true, (y_pred > 0.5).int())\n",
    "print(f\"test auc={auc:.6} acc={acc:.6}\", file=sys.stderr)"
   ]
  },
  {
   "cell_type": "markdown",
   "id": "fe6f664f-27ca-4f75-aa65-62c8253bcbbe",
   "metadata": {},
   "source": [
    "#### best snapshot"
   ]
  },
  {
   "cell_type": "code",
   "execution_count": 28,
   "id": "61210a80-753a-4a15-bb8a-16262d9058f2",
   "metadata": {},
   "outputs": [
    {
     "data": {
      "text/plain": [
       "<All keys matched successfully>"
      ]
     },
     "execution_count": 28,
     "metadata": {},
     "output_type": "execute_result"
    }
   ],
   "source": [
    "model = nn.Sequential(\n",
    "    DMPNNEncoder(\n",
    "        hidden_size,\n",
    "        dataset.num_node_features,\n",
    "        dataset.num_edge_features,\n",
    "        depth,\n",
    "    ),\n",
    "    head,\n",
    ")\n",
    "model.load_state_dict(torch.load(outfile))"
   ]
  },
  {
   "cell_type": "code",
   "execution_count": 29,
   "id": "8754e8ff-e303-4b90-8043-f5aa3a755069",
   "metadata": {},
   "outputs": [],
   "source": [
    "optimizer = torch.optim.Adam(model.parameters(), lr=1e-4)\n",
    "criterion = nn.BCEWithLogitsLoss()\n",
    "scheduler = torch.optim.lr_scheduler.OneCycleLR(\n",
    "    optimizer, max_lr=1e-3, steps_per_epoch=len(train_loader), epochs=num_epochs\n",
    ")"
   ]
  },
  {
   "cell_type": "code",
   "execution_count": 30,
   "id": "31557aff-f77f-4a42-9ca6-c25871fcdcf1",
   "metadata": {},
   "outputs": [],
   "source": [
    "config = {\n",
    "    \"loss\": criterion,\n",
    "    \"model\": model,\n",
    "    \"optimizer\": optimizer,\n",
    "    \"scheduler\": scheduler,\n",
    "}"
   ]
  },
  {
   "cell_type": "code",
   "execution_count": 31,
   "id": "9285aaef-2b2c-44a0-9570-f67a3ff49078",
   "metadata": {},
   "outputs": [
    {
     "name": "stderr",
     "output_type": "stream",
     "text": [
      "100%|██████████| 659/659 [00:03<00:00, 210.71it/s]\n",
      "train auc=0.968617 acc=0.979454\n"
     ]
    }
   ],
   "source": [
    "y_pred, y_true = make_prediction(config, train_loader, device=cuda)\n",
    "auc = roc_auc_score(y_true, y_pred)\n",
    "acc = accuracy_score(y_true, (y_pred > 0.5).int())\n",
    "print(f\"train auc={auc:.6} acc={acc:.6}\", file=sys.stderr)"
   ]
  },
  {
   "cell_type": "code",
   "execution_count": 32,
   "id": "fb25c16b-71cd-4fe2-96b4-9eb7fbd505bb",
   "metadata": {},
   "outputs": [
    {
     "name": "stderr",
     "output_type": "stream",
     "text": [
      "100%|██████████| 83/83 [00:00<00:00, 219.61it/s]\n",
      "valid auc=0.776675 acc=0.980793\n"
     ]
    }
   ],
   "source": [
    "y_pred, y_true = make_prediction(config, valid_loader, device=cuda)\n",
    "auc = roc_auc_score(y_true, y_pred)\n",
    "acc = accuracy_score(y_true, (y_pred > 0.5).int())\n",
    "print(f\"valid auc={auc:.6} acc={acc:.6}\", file=sys.stderr)"
   ]
  },
  {
   "cell_type": "code",
   "execution_count": 33,
   "id": "1562a7d7-b18f-477c-9655-f1618ef2394d",
   "metadata": {},
   "outputs": [
    {
     "name": "stderr",
     "output_type": "stream",
     "text": [
      "100%|██████████| 83/83 [00:00<00:00, 221.63it/s]\n",
      "test auc=0.735142 acc=0.966691\n"
     ]
    }
   ],
   "source": [
    "y_pred, y_true = make_prediction(config, test_loader, device=cuda)\n",
    "auc = roc_auc_score(y_true, y_pred)\n",
    "acc = accuracy_score(y_true, (y_pred > 0.5).int())\n",
    "print(f\"test auc={auc:.6} acc={acc:.6}\", file=sys.stderr)"
   ]
  },
  {
   "cell_type": "markdown",
   "id": "f6a8dba1-cee8-41aa-8ba5-a9c4aa3155c2",
   "metadata": {},
   "source": [
    "# Using ChemProp Atom- and Bond- Features"
   ]
  },
  {
   "cell_type": "code",
   "execution_count": 34,
   "id": "e4b26d55-f324-437a-b07b-ac3d6fdeb8e0",
   "metadata": {},
   "outputs": [],
   "source": [
    "seed = 0\n",
    "torch.manual_seed(seed);"
   ]
  },
  {
   "cell_type": "code",
   "execution_count": 35,
   "id": "35fb045a-6de9-49e1-9b86-961612c7ec94",
   "metadata": {},
   "outputs": [],
   "source": [
    "def get_dataset(df):\n",
    "    data_list = []\n",
    "    print(\"Convert to PyG Objects...\", file=sys.stderr)\n",
    "    for _, row in tqdm(df.iterrows(), total=len(df)):\n",
    "        smi = row[\"smiles\"]\n",
    "        data = smiles2data(smi, explicit_h=True)\n",
    "        data.y = torch.tensor([[row[\"HIV_active\"]]])\n",
    "        data_list.append(data)\n",
    "    print(\"Convert to RevIndexedDataset...\", file=sys.stderr)\n",
    "    return RevIndexedDataset(data_list)"
   ]
  },
  {
   "cell_type": "code",
   "execution_count": 36,
   "id": "8f7a4d61-95eb-40e2-81fe-252b0cb6077c",
   "metadata": {},
   "outputs": [],
   "source": [
    "data_url = \"http://snap.stanford.edu/ogb/data/graphproppred/csv_mol_download/hiv.zip\""
   ]
  },
  {
   "cell_type": "code",
   "execution_count": 37,
   "id": "cd4003b0-c536-4c79-8bfc-cf458b7724ac",
   "metadata": {},
   "outputs": [],
   "source": [
    "r = requests.get(data_url)\n",
    "z = zipfile.ZipFile(io.BytesIO(r.content))\n",
    "z.extractall(data_dir)"
   ]
  },
  {
   "cell_type": "code",
   "execution_count": 38,
   "id": "83ee0341-0b90-4e02-97e3-4d9d32a2d43a",
   "metadata": {},
   "outputs": [
    {
     "name": "stderr",
     "output_type": "stream",
     "text": [
      "Convert to PyG Objects...\n",
      " 85%|████████▌ | 35119/41127 [00:52<00:08, 684.75it/s]RDKit WARNING: [04:49:10] WARNING: not removing hydrogen atom without neighbors\n",
      "RDKit WARNING: [04:49:10] WARNING: not removing hydrogen atom without neighbors\n",
      "100%|██████████| 41127/41127 [01:02<00:00, 659.30it/s]\n",
      "Convert to RevIndexedDataset...\n",
      "100%|██████████| 41127/41127 [01:11<00:00, 576.14it/s]\n"
     ]
    }
   ],
   "source": [
    "df = pd.read_csv(f\"{data_dir}/hiv/mapping/mol.csv.gz\")\n",
    "dataset = get_dataset(df)"
   ]
  },
  {
   "cell_type": "code",
   "execution_count": 39,
   "id": "430e5974-e665-4ec1-b6b5-4122acaa070f",
   "metadata": {},
   "outputs": [],
   "source": [
    "split = {\n",
    "    \"train\": pd.read_csv(f\"{data_dir}/hiv/split/scaffold/train.csv.gz\", header=None),\n",
    "    \"valid\": pd.read_csv(f\"{data_dir}/hiv/split/scaffold/valid.csv.gz\", header=None),\n",
    "    \"test\": pd.read_csv(f\"{data_dir}/hiv/split/scaffold/test.csv.gz\", header=None),\n",
    "}\n",
    "train_idx = split[\"train\"].to_numpy().flatten()\n",
    "valid_idx = split[\"valid\"].to_numpy().flatten()\n",
    "test_idx = split[\"test\"].to_numpy().flatten()"
   ]
  },
  {
   "cell_type": "code",
   "execution_count": 40,
   "id": "aa0d71b8-11fe-4442-acf4-003a94985a0f",
   "metadata": {},
   "outputs": [
    {
     "name": "stderr",
     "output_type": "stream",
     "text": [
      "100%|██████████| 32901/32901 [00:01<00:00, 31441.49it/s]\n",
      "100%|██████████| 4113/4113 [00:00<00:00, 25689.74it/s]\n",
      "100%|██████████| 4113/4113 [00:00<00:00, 27857.72it/s]\n"
     ]
    }
   ],
   "source": [
    "batch_size = 50\n",
    "\n",
    "train_raw = torch.utils.data.Subset(dataset, train_idx)\n",
    "valid_raw = torch.utils.data.Subset(dataset, valid_idx)\n",
    "test_raw = torch.utils.data.Subset(dataset, test_idx)\n",
    "\n",
    "scaler = FeatureScaler(targets=[\"x\", \"edge_attr\"])\n",
    "train_data = scaler.fit_transform(train_raw)\n",
    "valid_data = scaler.transform(valid_raw)\n",
    "test_data = scaler.transform(test_raw)\n",
    "\n",
    "train_loader = DataLoader(train_data, batch_size=batch_size, shuffle=True)\n",
    "valid_loader = DataLoader(valid_data, batch_size=batch_size, shuffle=False)\n",
    "test_loader = DataLoader(test_data, batch_size=batch_size, shuffle=False)"
   ]
  },
  {
   "cell_type": "code",
   "execution_count": 41,
   "id": "2452f922-628d-4903-84e6-c67b78f5bc59",
   "metadata": {},
   "outputs": [],
   "source": [
    "cuda = torch.device(\"cuda\")"
   ]
  },
  {
   "cell_type": "code",
   "execution_count": 42,
   "id": "71707999-c438-4f03-8512-17ef5017970e",
   "metadata": {},
   "outputs": [
    {
     "data": {
      "text/plain": [
       "'A100-PCIE-40GB'"
      ]
     },
     "execution_count": 42,
     "metadata": {},
     "output_type": "execute_result"
    }
   ],
   "source": [
    "dev_id = torch.cuda.current_device()\n",
    "torch.cuda.get_device_name(dev_id)"
   ]
  },
  {
   "cell_type": "code",
   "execution_count": 43,
   "id": "fe9092a3-4ee5-4135-98f2-812437197624",
   "metadata": {},
   "outputs": [],
   "source": [
    "num_epochs = 30\n",
    "hidden_size = 300\n",
    "depth = 3\n",
    "out_dim = 1"
   ]
  },
  {
   "cell_type": "code",
   "execution_count": 44,
   "id": "a14f0050-2138-486b-82cd-5e365acca61a",
   "metadata": {},
   "outputs": [],
   "source": [
    "rate = 0.0\n",
    "head = nn.Sequential(\n",
    "    nn.Dropout(p=rate, inplace=False),\n",
    "    nn.Linear(hidden_size, hidden_size, bias=True),\n",
    "    nn.ReLU(),\n",
    "    nn.Dropout(p=rate, inplace=False),\n",
    "    nn.Linear(hidden_size, out_dim, bias=True),\n",
    ")\n",
    "model = nn.Sequential(\n",
    "    DMPNNEncoder(\n",
    "        hidden_size,\n",
    "        dataset.num_node_features,\n",
    "        dataset.num_edge_features,\n",
    "        depth,\n",
    "    ),\n",
    "    head,\n",
    ")\n",
    "initialize_weights(model)"
   ]
  },
  {
   "cell_type": "code",
   "execution_count": 45,
   "id": "5ecf036f-4f21-40e7-9291-2cc3616c1861",
   "metadata": {},
   "outputs": [
    {
     "data": {
      "text/plain": [
       "Sequential(\n",
       "  (0): DMPNNEncoder(\n",
       "    (act_func): ReLU()\n",
       "    (W1): Linear(in_features=147, out_features=300, bias=False)\n",
       "    (W2): Linear(in_features=300, out_features=300, bias=False)\n",
       "    (W3): Linear(in_features=433, out_features=300, bias=True)\n",
       "  )\n",
       "  (1): Sequential(\n",
       "    (0): Dropout(p=0.0, inplace=False)\n",
       "    (1): Linear(in_features=300, out_features=300, bias=True)\n",
       "    (2): ReLU()\n",
       "    (3): Dropout(p=0.0, inplace=False)\n",
       "    (4): Linear(in_features=300, out_features=1, bias=True)\n",
       "  )\n",
       ")"
      ]
     },
     "execution_count": 45,
     "metadata": {},
     "output_type": "execute_result"
    }
   ],
   "source": [
    "model"
   ]
  },
  {
   "cell_type": "code",
   "execution_count": 46,
   "id": "3c50a416-a55f-4312-97f5-d1712413c458",
   "metadata": {},
   "outputs": [
    {
     "data": {
      "text/plain": [
       "354901"
      ]
     },
     "execution_count": 46,
     "metadata": {},
     "output_type": "execute_result"
    }
   ],
   "source": [
    "sum(p.numel() for p in model.parameters())"
   ]
  },
  {
   "cell_type": "code",
   "execution_count": 47,
   "id": "5aafe7ff-8650-4955-aac2-df842f08ccfb",
   "metadata": {},
   "outputs": [],
   "source": [
    "optimizer = torch.optim.Adam(model.parameters(), lr=1e-5)\n",
    "criterion = nn.BCEWithLogitsLoss()\n",
    "scheduler = NoamLR(\n",
    "    optimizer,\n",
    "    warmup_epochs=[2],\n",
    "    total_epochs=[num_epochs],\n",
    "    steps_per_epoch=len(train_loader),\n",
    "    init_lr=[1e-4],\n",
    "    max_lr=[1e-3],\n",
    "    final_lr=[1e-4],\n",
    ")"
   ]
  },
  {
   "cell_type": "code",
   "execution_count": 48,
   "id": "2381e962-25ed-4ec1-be90-b069642d970a",
   "metadata": {},
   "outputs": [
    {
     "data": {
      "text/plain": [
       "(133, 14)"
      ]
     },
     "execution_count": 48,
     "metadata": {},
     "output_type": "execute_result"
    }
   ],
   "source": [
    "dataset.num_node_features, dataset.num_edge_features"
   ]
  },
  {
   "cell_type": "code",
   "execution_count": 49,
   "id": "d05a0d99-5f2a-4b16-8ada-c5425e151e1e",
   "metadata": {},
   "outputs": [],
   "source": [
    "config = {\n",
    "    \"loss\": criterion,\n",
    "    \"model\": model,\n",
    "    \"optimizer\": optimizer,\n",
    "    \"scheduler\": scheduler,\n",
    "}"
   ]
  },
  {
   "cell_type": "code",
   "execution_count": 50,
   "id": "f4b47e25-456c-4e14-b8c1-e09ee787a10b",
   "metadata": {},
   "outputs": [],
   "source": [
    "best = {'epoch': -1, 'score': float(\"-inf\")}\n",
    "outfile = f\"{data_dir}/best_snapshot.pth\""
   ]
  },
  {
   "cell_type": "code",
   "execution_count": 51,
   "id": "be9d3ac9-e729-4de3-ba8a-7604623a0e83",
   "metadata": {},
   "outputs": [
    {
     "name": "stderr",
     "output_type": "stream",
     "text": [
      "Epoch 1\n",
      "100%|██████████| 659/659 [00:05<00:00, 115.47it/s]\n",
      "100%|██████████| 83/83 [00:00<00:00, 181.39it/s]\n",
      "* best-auc -inf ==> 0.716913\n",
      "val auc=0.716913 acc=0.980306\n",
      "Epoch 2\n",
      "100%|██████████| 659/659 [00:05<00:00, 118.51it/s]\n",
      "100%|██████████| 83/83 [00:00<00:00, 182.14it/s]\n",
      "* best-auc 0.716913 ==> 0.760104\n",
      "val auc=0.760104 acc=0.978118\n",
      "Epoch 3\n",
      "100%|██████████| 659/659 [00:05<00:00, 115.67it/s]\n",
      "100%|██████████| 83/83 [00:00<00:00, 179.39it/s]\n",
      "val auc=0.717173 acc=0.981765\n",
      "Epoch 4\n",
      "100%|██████████| 659/659 [00:05<00:00, 114.51it/s]\n",
      "100%|██████████| 83/83 [00:00<00:00, 148.55it/s]\n",
      "val auc=0.736763 acc=0.981765\n",
      "Epoch 5\n",
      "100%|██████████| 659/659 [00:05<00:00, 113.06it/s]\n",
      "100%|██████████| 83/83 [00:01<00:00, 79.27it/s] \n",
      "* best-auc 0.760104 ==> 0.771881\n",
      "val auc=0.771881 acc=0.980549\n",
      "Epoch 6\n",
      "100%|██████████| 659/659 [00:05<00:00, 113.02it/s]\n",
      "100%|██████████| 83/83 [00:00<00:00, 168.66it/s]\n",
      "val auc=0.756139 acc=0.981765\n",
      "Epoch 7\n",
      "100%|██████████| 659/659 [00:05<00:00, 110.19it/s]\n",
      "100%|██████████| 83/83 [00:00<00:00, 162.93it/s]\n",
      "* best-auc 0.771881 ==> 0.783118\n",
      "val auc=0.783118 acc=0.982008\n",
      "Epoch 8\n",
      "100%|██████████| 659/659 [00:05<00:00, 111.69it/s]\n",
      "100%|██████████| 83/83 [00:00<00:00, 149.28it/s]\n",
      "* best-auc 0.783118 ==> 0.792763\n",
      "val auc=0.792763 acc=0.982251\n",
      "Epoch 9\n",
      "100%|██████████| 659/659 [00:06<00:00, 102.79it/s]\n",
      "100%|██████████| 83/83 [00:00<00:00, 146.30it/s]\n",
      "* best-auc 0.792763 ==> 0.794811\n",
      "val auc=0.794811 acc=0.981522\n",
      "Epoch 10\n",
      "100%|██████████| 659/659 [00:05<00:00, 110.83it/s]\n",
      "100%|██████████| 83/83 [00:00<00:00, 164.01it/s]\n",
      "val auc=0.765307 acc=0.982981\n",
      "Epoch 11\n",
      "100%|██████████| 659/659 [00:06<00:00, 109.72it/s]\n",
      "100%|██████████| 83/83 [00:00<00:00, 149.45it/s]\n",
      "* best-auc 0.794811 ==> 0.800813\n",
      "val auc=0.800813 acc=0.981279\n",
      "Epoch 12\n",
      "100%|██████████| 659/659 [00:05<00:00, 114.53it/s]\n",
      "100%|██████████| 83/83 [00:00<00:00, 173.77it/s]\n",
      "val auc=0.797579 acc=0.980063\n",
      "Epoch 13\n",
      "100%|██████████| 659/659 [00:05<00:00, 113.13it/s]\n",
      "100%|██████████| 83/83 [00:00<00:00, 170.83it/s]\n",
      "* best-auc 0.800813 ==> 0.808663\n",
      "val auc=0.808663 acc=0.981522\n",
      "Epoch 14\n",
      "100%|██████████| 659/659 [00:05<00:00, 110.72it/s]\n",
      "100%|██████████| 83/83 [00:00<00:00, 171.86it/s]\n",
      "val auc=0.786749 acc=0.980306\n",
      "Epoch 15\n",
      "100%|██████████| 659/659 [00:06<00:00, 109.39it/s]\n",
      "100%|██████████| 83/83 [00:00<00:00, 145.09it/s]\n",
      "val auc=0.800069 acc=0.97982\n",
      "Epoch 16\n",
      "100%|██████████| 659/659 [00:05<00:00, 113.67it/s]\n",
      "100%|██████████| 83/83 [00:00<00:00, 171.69it/s]\n",
      "val auc=0.794468 acc=0.980306\n",
      "Epoch 17\n",
      "100%|██████████| 659/659 [00:05<00:00, 112.56it/s]\n",
      "100%|██████████| 83/83 [00:00<00:00, 149.52it/s]\n",
      "val auc=0.779361 acc=0.981279\n",
      "Epoch 18\n",
      "100%|██████████| 659/659 [00:05<00:00, 110.13it/s]\n",
      "100%|██████████| 83/83 [00:00<00:00, 145.13it/s]\n",
      "val auc=0.792383 acc=0.981522\n",
      "Epoch 19\n",
      "100%|██████████| 659/659 [00:06<00:00, 109.58it/s]\n",
      "100%|██████████| 83/83 [00:00<00:00, 163.89it/s]\n",
      "val auc=0.801995 acc=0.980549\n",
      "Epoch 20\n",
      "100%|██████████| 659/659 [00:05<00:00, 113.04it/s]\n",
      "100%|██████████| 83/83 [00:00<00:00, 171.48it/s]\n",
      "* best-auc 0.808663 ==> 0.811854\n",
      "val auc=0.811854 acc=0.980793\n",
      "Epoch 21\n",
      "100%|██████████| 659/659 [00:05<00:00, 112.94it/s]\n",
      "100%|██████████| 83/83 [00:00<00:00, 171.20it/s]\n",
      "val auc=0.797392 acc=0.979577\n",
      "Epoch 22\n",
      "100%|██████████| 659/659 [00:05<00:00, 114.29it/s]\n",
      "100%|██████████| 83/83 [00:00<00:00, 149.16it/s]\n",
      "val auc=0.781265 acc=0.978848\n",
      "Epoch 23\n",
      "100%|██████████| 659/659 [00:05<00:00, 109.94it/s]\n",
      "100%|██████████| 83/83 [00:00<00:00, 163.76it/s]\n",
      "val auc=0.798544 acc=0.980793\n",
      "Epoch 24\n",
      "100%|██████████| 659/659 [00:05<00:00, 110.12it/s]\n",
      "100%|██████████| 83/83 [00:00<00:00, 173.32it/s]\n",
      "val auc=0.800427 acc=0.978118\n",
      "Epoch 25\n",
      "100%|██████████| 659/659 [00:05<00:00, 110.30it/s]\n",
      "100%|██████████| 83/83 [00:00<00:00, 171.65it/s]\n",
      "val auc=0.795644 acc=0.97982\n",
      "Epoch 26\n",
      "100%|██████████| 659/659 [00:05<00:00, 111.82it/s]\n",
      "100%|██████████| 83/83 [00:00<00:00, 173.03it/s]\n",
      "val auc=0.807399 acc=0.981765\n",
      "Epoch 27\n",
      "100%|██████████| 659/659 [00:05<00:00, 110.47it/s]\n",
      "100%|██████████| 83/83 [00:00<00:00, 148.03it/s]\n",
      "val auc=0.800041 acc=0.980549\n",
      "Epoch 28\n",
      "100%|██████████| 659/659 [00:06<00:00, 107.82it/s]\n",
      "100%|██████████| 83/83 [00:00<00:00, 165.36it/s]\n",
      "val auc=0.792049 acc=0.977632\n",
      "Epoch 29\n",
      "100%|██████████| 659/659 [00:05<00:00, 113.64it/s]\n",
      "100%|██████████| 83/83 [00:00<00:00, 171.47it/s]\n",
      "val auc=0.78922 acc=0.979577\n",
      "Epoch 30\n",
      "100%|██████████| 659/659 [00:05<00:00, 114.17it/s]\n",
      "100%|██████████| 83/83 [00:00<00:00, 171.19it/s]\n",
      "val auc=0.796079 acc=0.978118\n"
     ]
    }
   ],
   "source": [
    "for epoch in range(num_epochs):\n",
    "    print(f\"Epoch {epoch+1}\", file=sys.stderr)\n",
    "    train(config, train_loader, device=cuda)\n",
    "    y_pred, y_true = make_prediction(config, valid_loader, device=cuda)\n",
    "    auc = roc_auc_score(y_true, y_pred)\n",
    "    if auc > best['score']:\n",
    "        print(f\"* best-auc {best['score']:.6} ==> {auc:.6}\", file=sys.stderr)\n",
    "        best['score'] = auc\n",
    "        best['epoch'] = epoch+1\n",
    "        torch.save(model.state_dict(), outfile)\n",
    "    acc = accuracy_score(y_true, (y_pred > 0.5).int())\n",
    "    print(f\"val auc={auc:.6} acc={acc:.6}\", file=sys.stderr)"
   ]
  },
  {
   "cell_type": "code",
   "execution_count": 52,
   "id": "6302f5a3-601d-4931-b8e6-8a36aecd0972",
   "metadata": {},
   "outputs": [
    {
     "name": "stdout",
     "output_type": "stream",
     "text": [
      "best validation auc = 0.8118539339604155 on epoch 20\n"
     ]
    }
   ],
   "source": [
    "print(f\"best validation auc = {best['score']} on epoch {best['epoch']}\")"
   ]
  },
  {
   "cell_type": "markdown",
   "id": "05bf12a4-74b2-44d5-b032-1ec3c6406856",
   "metadata": {},
   "source": [
    "#### final "
   ]
  },
  {
   "cell_type": "code",
   "execution_count": 53,
   "id": "067d2eb0-225e-4e1f-bd3f-3b58379214c7",
   "metadata": {},
   "outputs": [
    {
     "name": "stderr",
     "output_type": "stream",
     "text": [
      "100%|██████████| 83/83 [00:00<00:00, 169.93it/s]\n",
      "test auc=0.762168 acc=0.961585\n"
     ]
    }
   ],
   "source": [
    "y_pred, y_true = make_prediction(config, test_loader, device=cuda)\n",
    "auc = roc_auc_score(y_true, y_pred)\n",
    "acc = accuracy_score(y_true, (y_pred > 0.5).int())\n",
    "print(f\"test auc={auc:.6} acc={acc:.6}\", file=sys.stderr)"
   ]
  },
  {
   "cell_type": "markdown",
   "id": "7dd1efe5-4493-494b-beb9-5bec1701bbcf",
   "metadata": {},
   "source": [
    "#### best snapshot"
   ]
  },
  {
   "cell_type": "code",
   "execution_count": 54,
   "id": "04bb6f96-9f2a-4aeb-be03-d26b2a21b50c",
   "metadata": {},
   "outputs": [
    {
     "data": {
      "text/plain": [
       "<All keys matched successfully>"
      ]
     },
     "execution_count": 54,
     "metadata": {},
     "output_type": "execute_result"
    }
   ],
   "source": [
    "model = nn.Sequential(\n",
    "    DMPNNEncoder(\n",
    "        hidden_size,\n",
    "        dataset.num_node_features,\n",
    "        dataset.num_edge_features,\n",
    "        depth,\n",
    "    ),\n",
    "    head,\n",
    ")\n",
    "model.load_state_dict(torch.load(outfile))"
   ]
  },
  {
   "cell_type": "code",
   "execution_count": 55,
   "id": "9df34e51-c9bd-41c7-9855-43f28cdec474",
   "metadata": {},
   "outputs": [],
   "source": [
    "optimizer = torch.optim.Adam(model.parameters(), lr=1e-5)\n",
    "criterion = nn.BCEWithLogitsLoss()\n",
    "scheduler = NoamLR(\n",
    "    optimizer,\n",
    "    warmup_epochs=[2],\n",
    "    total_epochs=[num_epochs],\n",
    "    steps_per_epoch=len(train_loader),\n",
    "    init_lr=[1e-4],\n",
    "    max_lr=[1e-3],\n",
    "    final_lr=[1e-4],\n",
    ")"
   ]
  },
  {
   "cell_type": "code",
   "execution_count": 56,
   "id": "b609331a-c8bf-43d3-9b14-96fa379c156c",
   "metadata": {},
   "outputs": [],
   "source": [
    "config = {\n",
    "    \"loss\": criterion,\n",
    "    \"model\": model,\n",
    "    \"optimizer\": optimizer,\n",
    "    \"scheduler\": scheduler,\n",
    "}"
   ]
  },
  {
   "cell_type": "code",
   "execution_count": 57,
   "id": "92a00052-ce48-4254-999f-f68e405ade89",
   "metadata": {},
   "outputs": [
    {
     "name": "stderr",
     "output_type": "stream",
     "text": [
      "100%|██████████| 659/659 [00:03<00:00, 173.13it/s]\n",
      "train auc=0.97518 acc=0.978329\n"
     ]
    }
   ],
   "source": [
    "y_pred, y_true = make_prediction(config, train_loader, device=cuda)\n",
    "auc = roc_auc_score(y_true, y_pred)\n",
    "acc = accuracy_score(y_true, (y_pred > 0.5).int())\n",
    "print(f\"train auc={auc:.6} acc={acc:.6}\", file=sys.stderr)"
   ]
  },
  {
   "cell_type": "code",
   "execution_count": 58,
   "id": "255ca6dd-2c82-4e5f-8438-42c11928d586",
   "metadata": {},
   "outputs": [
    {
     "name": "stderr",
     "output_type": "stream",
     "text": [
      "100%|██████████| 83/83 [00:00<00:00, 173.54it/s]\n",
      "valid auc=0.811854 acc=0.980793\n"
     ]
    }
   ],
   "source": [
    "y_pred, y_true = make_prediction(config, valid_loader, device=cuda)\n",
    "auc = roc_auc_score(y_true, y_pred)\n",
    "acc = accuracy_score(y_true, (y_pred > 0.5).int())\n",
    "print(f\"valid auc={auc:.6} acc={acc:.6}\", file=sys.stderr)"
   ]
  },
  {
   "cell_type": "code",
   "execution_count": 59,
   "id": "f98f37ec-c089-4671-8b71-93518331e7de",
   "metadata": {},
   "outputs": [
    {
     "name": "stderr",
     "output_type": "stream",
     "text": [
      "100%|██████████| 83/83 [00:00<00:00, 148.81it/s]\n",
      "test auc=0.784245 acc=0.963773\n"
     ]
    }
   ],
   "source": [
    "y_pred, y_true = make_prediction(config, test_loader, device=cuda)\n",
    "auc = roc_auc_score(y_true, y_pred)\n",
    "acc = accuracy_score(y_true, (y_pred > 0.5).int())\n",
    "print(f\"test auc={auc:.6} acc={acc:.6}\", file=sys.stderr)"
   ]
  },
  {
   "cell_type": "markdown",
   "id": "0fe3e85b-a5f3-44fd-89cc-a8e2f4a88123",
   "metadata": {},
   "source": [
    "#### performances of other models"
   ]
  },
  {
   "cell_type": "markdown",
   "id": "253b6620-5798-47e1-a394-f9b780fd7d24",
   "metadata": {},
   "source": [
    "https://ogb.stanford.edu/docs/leader_graphprop/#ogbg-molhiv"
   ]
  },
  {
   "cell_type": "markdown",
   "id": "253a014f-57ab-48c5-b896-2c24581beac8",
   "metadata": {},
   "source": [
    "#### original chemprop"
   ]
  },
  {
   "cell_type": "markdown",
   "id": "80098131-e25a-42ca-812f-7cd9da786fe9",
   "metadata": {},
   "source": [
    "```bash\n",
    "$ python train.py --data_path ../train_hiv.csv --separate_val_path ../valid_hiv.csv --separate_test_path ../test_hiv.csv --target_columns HIV_active --smiles_columns smiles --dataset_type classification --save_dir tmp --explicit_h --seed 0 --quiet\n",
    "```"
   ]
  },
  {
   "cell_type": "markdown",
   "id": "68887086-c92e-4fd1-9c3e-eef4dd0d5d3c",
   "metadata": {},
   "source": [
    "```bash\n",
    "Seed 0 ==> test auc = 0.794824\n",
    "Seed 1 ==> test auc = 0.788354\n",
    "Seed 2 ==> test auc = 0.772676\n",
    "```"
   ]
  },
  {
   "cell_type": "markdown",
   "id": "423c9afa-2e37-4efe-9435-7751df3ad0e1",
   "metadata": {},
   "source": [
    "```python\n",
    "MoleculeModel(\n",
    "  (sigmoid): Sigmoid()\n",
    "  (encoder): MPN(\n",
    "    (encoder): ModuleList(\n",
    "      (0): MPNEncoder(\n",
    "        (dropout_layer): Dropout(p=0.0, inplace=False)\n",
    "        (act_func): ReLU()\n",
    "        (W_i): Linear(in_features=147, out_features=300, bias=False)\n",
    "        (W_h): Linear(in_features=300, out_features=300, bias=False)\n",
    "        (W_o): Linear(in_features=433, out_features=300, bias=True)\n",
    "      )\n",
    "    )\n",
    "  )\n",
    "  (ffn): Sequential(\n",
    "    (0): Dropout(p=0.0, inplace=False)\n",
    "    (1): Linear(in_features=300, out_features=300, bias=True)\n",
    "    (2): ReLU()\n",
    "    (3): Dropout(p=0.0, inplace=False)\n",
    "    (4): Linear(in_features=300, out_features=1, bias=True)\n",
    "  )\n",
    ")\n",
    "Number of parameters = 355,201\n",
    "```"
   ]
  },
  {
   "cell_type": "markdown",
   "id": "7298a9ac-0c85-4373-9ec2-79aec59c9f6f",
   "metadata": {},
   "source": [
    "**Note: this # of parameters includes \"cached_zero_vector\" (300)** and 354901 = 355201-300"
   ]
  },
  {
   "cell_type": "code",
   "execution_count": 60,
   "id": "4cf078d6-e7d0-453b-8b1e-df76b03b3225",
   "metadata": {},
   "outputs": [
    {
     "data": {
      "text/plain": [
       "354901"
      ]
     },
     "execution_count": 60,
     "metadata": {},
     "output_type": "execute_result"
    }
   ],
   "source": [
    "layers = [\n",
    "    nn.Dropout(p=0.0, inplace=False),\n",
    "    nn.ReLU(),\n",
    "    nn.Linear(in_features=147, out_features=300, bias=False),\n",
    "    nn.Linear(in_features=300, out_features=300, bias=False),\n",
    "    nn.Linear(in_features=433, out_features=300, bias=True),\n",
    "    nn.Dropout(p=0.0, inplace=False),\n",
    "    nn.Linear(in_features=300, out_features=300, bias=True),\n",
    "    nn.ReLU(),\n",
    "    nn.Dropout(p=0.0, inplace=False),\n",
    "    nn.Linear(in_features=300, out_features=1, bias=True)\n",
    "]\n",
    "num_params = 0\n",
    "for l in layers:\n",
    "    num_params += sum(p.numel() for p in l.parameters())\n",
    "num_params"
   ]
  },
  {
   "cell_type": "markdown",
   "id": "a8a85cee-0d99-4f62-b820-a9baa610dd41",
   "metadata": {},
   "source": [
    "```bash\n",
    "Model 0 best validation auc = 0.819074 on epoch 4\n",
    "Loading pretrained parameter \"encoder.encoder.0.cached_zero_vector\".\n",
    "Loading pretrained parameter \"encoder.encoder.0.W_i.weight\".\n",
    "Loading pretrained parameter \"encoder.encoder.0.W_h.weight\".\n",
    "Loading pretrained parameter \"encoder.encoder.0.W_o.weight\".\n",
    "Loading pretrained parameter \"encoder.encoder.0.W_o.bias\".\n",
    "Loading pretrained parameter \"ffn.1.weight\".\n",
    "Loading pretrained parameter \"ffn.1.bias\".\n",
    "Loading pretrained parameter \"ffn.4.weight\".\n",
    "Loading pretrained parameter \"ffn.4.bias\".\n",
    "Moving model to cuda\n",
    "Model 0 test auc = 0.794824                                                                                                 \n",
    "Ensemble test auc = 0.794824\n",
    "1-fold cross validation\n",
    "        Seed 0 ==> test auc = 0.794824\n",
    "Overall test auc = 0.794824 +/- 0.000000\n",
    "Elapsed time = 0:06:50\n",
    "```"
   ]
  }
 ],
 "metadata": {
  "kernelspec": {
   "display_name": "Python 3",
   "language": "python",
   "name": "python3"
  },
  "language_info": {
   "codemirror_mode": {
    "name": "ipython",
    "version": 3
   },
   "file_extension": ".py",
   "mimetype": "text/x-python",
   "name": "python",
   "nbconvert_exporter": "python",
   "pygments_lexer": "ipython3",
   "version": "3.8.10"
  }
 },
 "nbformat": 4,
 "nbformat_minor": 5
}
