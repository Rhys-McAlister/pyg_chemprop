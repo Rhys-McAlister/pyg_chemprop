{
 "cells": [
  {
   "cell_type": "markdown",
   "id": "2d2abcd5",
   "metadata": {},
   "source": [
    "# Molecular Property Prediction by ChemProp"
   ]
  },
  {
   "cell_type": "code",
   "execution_count": 8,
   "id": "2e8e2218",
   "metadata": {},
   "outputs": [],
   "source": [
    "import io\n",
    "import sys\n",
    "import zipfile\n",
    "\n",
    "import pandas as pd\n",
    "import requests\n",
    "import torch\n",
    "import torch.nn as nn\n",
    "from ogb.graphproppred import Evaluator, PygGraphPropPredDataset\n",
    "from sklearn.metrics import accuracy_score, roc_auc_score\n",
    "from torch_geometric.loader import DataLoader\n",
    "from tqdm import tqdm\n",
    "\n",
    "from pyg_chemprop import DMPNNEncoder, RevIndexedDataset\n",
    "from pyg_chemprop_utils import FeatureScaler, NoamLR, initialize_weights, smiles2data"
   ]
  },
  {
   "cell_type": "code",
   "execution_count": 9,
   "id": "8b293d5c-d98e-457e-958c-6c0011805987",
   "metadata": {},
   "outputs": [],
   "source": [
    "data_dir = \"./data\""
   ]
  },
  {
   "cell_type": "markdown",
   "id": "557ef3ab-2dfa-40a2-beba-acc71839174e",
   "metadata": {},
   "source": [
    "## version check"
   ]
  },
  {
   "cell_type": "code",
   "execution_count": 10,
   "id": "ce3ec3ad-c3ae-420c-9abe-426df6c2ef3c",
   "metadata": {},
   "outputs": [
    {
     "data": {
      "text/plain": [
       "'2.2.0'"
      ]
     },
     "execution_count": 10,
     "metadata": {},
     "output_type": "execute_result"
    }
   ],
   "source": [
    "import torch\n",
    "torch.__version__"
   ]
  },
  {
   "cell_type": "code",
   "execution_count": 11,
   "id": "557c1a5c-ccd5-4867-a719-2eb380d3aadc",
   "metadata": {},
   "outputs": [
    {
     "data": {
      "text/plain": [
       "'2.5.0'"
      ]
     },
     "execution_count": 11,
     "metadata": {},
     "output_type": "execute_result"
    }
   ],
   "source": [
    "import torch_geometric\n",
    "torch_geometric.__version__"
   ]
  },
  {
   "cell_type": "code",
   "execution_count": 12,
   "id": "dd782d77-7c96-4866-aeb6-7dc899826548",
   "metadata": {},
   "outputs": [
    {
     "data": {
      "text/plain": [
       "'2.1.2'"
      ]
     },
     "execution_count": 12,
     "metadata": {},
     "output_type": "execute_result"
    }
   ],
   "source": [
    "import torch_scatter\n",
    "torch_scatter.__version__"
   ]
  },
  {
   "cell_type": "code",
   "execution_count": 13,
   "id": "024cbea0-81ee-44f7-9ad8-10746c365905",
   "metadata": {},
   "outputs": [
    {
     "data": {
      "text/plain": [
       "'1.3.6'"
      ]
     },
     "execution_count": 13,
     "metadata": {},
     "output_type": "execute_result"
    }
   ],
   "source": [
    "import ogb\n",
    "ogb.__version__"
   ]
  },
  {
   "cell_type": "markdown",
   "id": "26b03a5b",
   "metadata": {
    "tags": []
   },
   "source": [
    "## preparation"
   ]
  },
  {
   "cell_type": "code",
   "execution_count": 14,
   "id": "7c06ee29",
   "metadata": {},
   "outputs": [
    {
     "ename": "ValueError",
     "evalue": "Invalid dataset name CHNOPS2743-HARMONIC-processed-scaled.\nAvailable datasets are as follows:\nogbg-molbace\nogbg-molbbbp\nogbg-molclintox\nogbg-molmuv\nogbg-molpcba\nogbg-molsider\nogbg-moltox21\nogbg-moltoxcast\nogbg-molhiv\nogbg-molesol\nogbg-molfreesolv\nogbg-mollipo\nogbg-molchembl\nogbg-ppa\nogbg-code2",
     "output_type": "error",
     "traceback": [
      "\u001b[0;31m---------------------------------------------------------------------------\u001b[0m",
      "\u001b[0;31mValueError\u001b[0m                                Traceback (most recent call last)",
      "\u001b[1;32m/Users/rhysmcalister/Documents/GitHub/pyg_chemprop/test_ogbg-molhiv.ipynb Cell 10\u001b[0m line \u001b[0;36m1\n\u001b[0;32m----> <a href='vscode-notebook-cell:/Users/rhysmcalister/Documents/GitHub/pyg_chemprop/test_ogbg-molhiv.ipynb#X13sZmlsZQ%3D%3D?line=0'>1</a>\u001b[0m pyg_dataset \u001b[39m=\u001b[39m PygGraphPropPredDataset(name\u001b[39m=\u001b[39;49m\u001b[39m\"\u001b[39;49m\u001b[39mCHNOPS2743-HARMONIC-processed-scaled\u001b[39;49m\u001b[39m\"\u001b[39;49m, root\u001b[39m=\u001b[39;49mdata_dir)\n\u001b[1;32m      <a href='vscode-notebook-cell:/Users/rhysmcalister/Documents/GitHub/pyg_chemprop/test_ogbg-molhiv.ipynb#X13sZmlsZQ%3D%3D?line=1'>2</a>\u001b[0m split_idx \u001b[39m=\u001b[39m pyg_dataset\u001b[39m.\u001b[39mget_idx_split()\n\u001b[1;32m      <a href='vscode-notebook-cell:/Users/rhysmcalister/Documents/GitHub/pyg_chemprop/test_ogbg-molhiv.ipynb#X13sZmlsZQ%3D%3D?line=2'>3</a>\u001b[0m pyg_dataset\u001b[39m.\u001b[39mtask_type\n",
      "File \u001b[0;32m~/Documents/GitHub/pyg_chemprop/.conda/lib/python3.11/site-packages/ogb/graphproppred/dataset_pyg.py:40\u001b[0m, in \u001b[0;36mPygGraphPropPredDataset.__init__\u001b[0;34m(self, name, root, transform, pre_transform, meta_dict)\u001b[0m\n\u001b[1;32m     38\u001b[0m         error_mssg \u001b[39m+\u001b[39m\u001b[39m=\u001b[39m \u001b[39m'\u001b[39m\u001b[39mAvailable datasets are as follows:\u001b[39m\u001b[39m\\n\u001b[39;00m\u001b[39m'\u001b[39m\n\u001b[1;32m     39\u001b[0m         error_mssg \u001b[39m+\u001b[39m\u001b[39m=\u001b[39m \u001b[39m'\u001b[39m\u001b[39m\\n\u001b[39;00m\u001b[39m'\u001b[39m\u001b[39m.\u001b[39mjoin(master\u001b[39m.\u001b[39mkeys())\n\u001b[0;32m---> 40\u001b[0m         \u001b[39mraise\u001b[39;00m \u001b[39mValueError\u001b[39;00m(error_mssg)\n\u001b[1;32m     41\u001b[0m     \u001b[39mself\u001b[39m\u001b[39m.\u001b[39mmeta_info \u001b[39m=\u001b[39m master[\u001b[39mself\u001b[39m\u001b[39m.\u001b[39mname]\n\u001b[1;32m     43\u001b[0m \u001b[39melse\u001b[39;00m:\n",
      "\u001b[0;31mValueError\u001b[0m: Invalid dataset name CHNOPS2743-HARMONIC-processed-scaled.\nAvailable datasets are as follows:\nogbg-molbace\nogbg-molbbbp\nogbg-molclintox\nogbg-molmuv\nogbg-molpcba\nogbg-molsider\nogbg-moltox21\nogbg-moltoxcast\nogbg-molhiv\nogbg-molesol\nogbg-molfreesolv\nogbg-mollipo\nogbg-molchembl\nogbg-ppa\nogbg-code2"
     ]
    }
   ],
   "source": [
    "pyg_dataset = PygGraphPropPredDataset(name=\"CHNOPS2743-HARMONIC-processed-scaled\", root=data_dir)\n",
    "split_idx = pyg_dataset.get_idx_split()\n",
    "pyg_dataset.task_type"
   ]
  },
  {
   "cell_type": "code",
   "execution_count": 8,
   "id": "5518ec4e-b524-4862-97d3-05902fa8e832",
   "metadata": {},
   "outputs": [
    {
     "name": "stderr",
     "output_type": "stream",
     "text": [
      "100%|██████████| 41127/41127 [01:04<00:00, 638.09it/s]\n"
     ]
    }
   ],
   "source": [
    "dataset = RevIndexedDataset(pyg_dataset)"
   ]
  },
  {
   "cell_type": "code",
   "execution_count": 9,
   "id": "9b963c73-477c-4d83-b0a3-d4767ee18f75",
   "metadata": {},
   "outputs": [],
   "source": [
    "batch_size = 50\n",
    "\n",
    "train_data = torch.utils.data.Subset(dataset, split_idx[\"train\"])\n",
    "valid_data = torch.utils.data.Subset(dataset, split_idx[\"valid\"])\n",
    "test_data = torch.utils.data.Subset(dataset, split_idx[\"test\"])\n",
    "\n",
    "train_loader = DataLoader(train_data, batch_size=batch_size, shuffle=True)\n",
    "valid_loader = DataLoader(valid_data, batch_size=batch_size, shuffle=False)\n",
    "test_loader = DataLoader(test_data, batch_size=batch_size, shuffle=False)"
   ]
  },
  {
   "cell_type": "code",
   "execution_count": 10,
   "id": "19ea0028-066b-41d2-bf17-93c4ad10ddf0",
   "metadata": {},
   "outputs": [],
   "source": [
    "def train(config, loader, device=torch.device(\"cpu\")):\n",
    "    criterion = config[\"loss\"]\n",
    "    model = config[\"model\"]\n",
    "    optimizer = config[\"optimizer\"]\n",
    "    scheduler = config[\"scheduler\"]\n",
    "\n",
    "    model = model.to(device)\n",
    "    model.train()\n",
    "    for batch in tqdm(loader, total=len(loader)):\n",
    "        batch = batch.to(device)\n",
    "        optimizer.zero_grad()\n",
    "        out = model(batch)\n",
    "        loss = criterion(out, batch.y.float())\n",
    "        loss.backward()\n",
    "        optimizer.step()\n",
    "        scheduler.step()"
   ]
  },
  {
   "cell_type": "code",
   "execution_count": 11,
   "id": "20a993d7-598e-47da-a4fe-a4ac1fd22a99",
   "metadata": {},
   "outputs": [],
   "source": [
    "def make_prediction(config, loader, device=torch.device(\"cpu\")):\n",
    "    model = config[\"model\"]\n",
    "\n",
    "    model = model.to(device)\n",
    "    model.eval()\n",
    "    y_pred = []\n",
    "    y_true = []\n",
    "    for batch in tqdm(loader, total=len(loader)):\n",
    "        batch = batch.to(device)\n",
    "        with torch.no_grad():\n",
    "            batch_preds = torch.sigmoid(model(batch))\n",
    "        y_pred.extend(batch_preds)\n",
    "        y_true.extend(batch.y)\n",
    "    return torch.stack(y_pred).cpu(), torch.stack(y_true).cpu()"
   ]
  },
  {
   "cell_type": "markdown",
   "id": "da7fd934",
   "metadata": {
    "tags": []
   },
   "source": [
    "## run test (cpu)"
   ]
  },
  {
   "cell_type": "code",
   "execution_count": 12,
   "id": "45196b34-f057-4aa0-a983-e8b02a9f7d26",
   "metadata": {},
   "outputs": [],
   "source": [
    "num_epochs = 3\n",
    "hidden_size = 300\n",
    "depth = 3\n",
    "out_dim = 1"
   ]
  },
  {
   "cell_type": "code",
   "execution_count": 13,
   "id": "ef2971ea-d9a1-4649-bdd1-71d2c895b90f",
   "metadata": {},
   "outputs": [],
   "source": [
    "head = nn.Sequential(\n",
    "    nn.Linear(hidden_size, hidden_size, bias=True),\n",
    "    nn.ReLU(),\n",
    "    nn.Linear(hidden_size, out_dim, bias=True),\n",
    ")\n",
    "model = nn.Sequential(\n",
    "    DMPNNEncoder(\n",
    "        hidden_size,\n",
    "        dataset.num_node_features,\n",
    "        dataset.num_edge_features,\n",
    "        depth,\n",
    "    ),\n",
    "    head,\n",
    ")\n",
    "initialize_weights(model)"
   ]
  },
  {
   "cell_type": "code",
   "execution_count": 14,
   "id": "b56b4c8a-b78b-4201-a18b-f1977b74ac41",
   "metadata": {},
   "outputs": [
    {
     "data": {
      "text/plain": [
       "(9, 3)"
      ]
     },
     "execution_count": 14,
     "metadata": {},
     "output_type": "execute_result"
    }
   ],
   "source": [
    "dataset.num_node_features, dataset.num_edge_features"
   ]
  },
  {
   "cell_type": "code",
   "execution_count": 15,
   "id": "abe73e25-d30d-44fd-aeb1-3e11990c5548",
   "metadata": {},
   "outputs": [
    {
     "data": {
      "text/plain": [
       "Sequential(\n",
       "  (0): DMPNNEncoder(\n",
       "    (act_func): ReLU()\n",
       "    (W1): Linear(in_features=12, out_features=300, bias=False)\n",
       "    (W2): Linear(in_features=300, out_features=300, bias=False)\n",
       "    (W3): Linear(in_features=309, out_features=300, bias=True)\n",
       "  )\n",
       "  (1): Sequential(\n",
       "    (0): Linear(in_features=300, out_features=300, bias=True)\n",
       "    (1): ReLU()\n",
       "    (2): Linear(in_features=300, out_features=1, bias=True)\n",
       "  )\n",
       ")"
      ]
     },
     "execution_count": 15,
     "metadata": {},
     "output_type": "execute_result"
    }
   ],
   "source": [
    "model"
   ]
  },
  {
   "cell_type": "code",
   "execution_count": 16,
   "id": "92c0a661",
   "metadata": {},
   "outputs": [],
   "source": [
    "optimizer = torch.optim.Adam(model.parameters(), lr=1e-4)\n",
    "criterion = nn.BCEWithLogitsLoss()\n",
    "scheduler = torch.optim.lr_scheduler.OneCycleLR(\n",
    "    optimizer, max_lr=1e-3, steps_per_epoch=len(train_loader), epochs=num_epochs\n",
    ")"
   ]
  },
  {
   "cell_type": "code",
   "execution_count": 17,
   "id": "a686620b",
   "metadata": {},
   "outputs": [],
   "source": [
    "config = {\n",
    "    \"loss\": criterion,\n",
    "    \"model\": model,\n",
    "    \"optimizer\": optimizer,\n",
    "    \"scheduler\": scheduler,\n",
    "}"
   ]
  },
  {
   "cell_type": "code",
   "execution_count": 18,
   "id": "edd3528c",
   "metadata": {},
   "outputs": [
    {
     "name": "stderr",
     "output_type": "stream",
     "text": [
      "Epoch 1\n",
      "100%|██████████| 659/659 [00:23<00:00, 27.75it/s]\n",
      "100%|██████████| 83/83 [00:01<00:00, 46.22it/s]\n",
      "val auc=0.735981 acc=0.980306\n",
      "Epoch 2\n",
      "100%|██████████| 659/659 [00:23<00:00, 27.64it/s]\n",
      "100%|██████████| 83/83 [00:02<00:00, 40.58it/s]\n",
      "val auc=0.724356 acc=0.981036\n",
      "Epoch 3\n",
      "100%|██████████| 659/659 [00:24<00:00, 27.11it/s]\n",
      "100%|██████████| 83/83 [00:01<00:00, 46.28it/s]\n",
      "val auc=0.730946 acc=0.980306\n"
     ]
    }
   ],
   "source": [
    "for epoch in range(num_epochs):\n",
    "    print(f\"Epoch {epoch+1}\", file=sys.stderr)\n",
    "    train(config, train_loader)\n",
    "    y_pred, y_true = make_prediction(config, valid_loader)\n",
    "    auc = roc_auc_score(y_true, y_pred)\n",
    "    acc = accuracy_score(y_true, (y_pred > 0.5).int())\n",
    "    print(f\"val auc={auc:.6} acc={acc:.6}\", file=sys.stderr)"
   ]
  },
  {
   "cell_type": "code",
   "execution_count": 19,
   "id": "03bf3b88",
   "metadata": {},
   "outputs": [
    {
     "name": "stderr",
     "output_type": "stream",
     "text": [
      "100%|██████████| 83/83 [00:01<00:00, 50.87it/s]\n",
      "test auc=0.679287 acc=0.968393\n"
     ]
    }
   ],
   "source": [
    "y_pred, y_true = make_prediction(config, test_loader)\n",
    "auc = roc_auc_score(y_true, y_pred)\n",
    "acc = accuracy_score(y_true, (y_pred > 0.5).int())\n",
    "print(f\"test auc={auc:.6} acc={acc:.6}\", file=sys.stderr)"
   ]
  },
  {
   "cell_type": "markdown",
   "id": "44882c32-5c5e-42a7-ae07-3625a60c1c87",
   "metadata": {
    "tags": []
   },
   "source": [
    "## run test (gpu)"
   ]
  },
  {
   "cell_type": "code",
   "execution_count": 20,
   "id": "e7381437-54cf-4683-a3e9-40d201000db3",
   "metadata": {},
   "outputs": [],
   "source": [
    "seed = 0\n",
    "torch.manual_seed(seed);"
   ]
  },
  {
   "cell_type": "code",
   "execution_count": 21,
   "id": "b3ee1a49-d8a5-4ece-bdd1-acd7e46ed4d3",
   "metadata": {},
   "outputs": [
    {
     "data": {
      "text/plain": [
       "True"
      ]
     },
     "execution_count": 21,
     "metadata": {},
     "output_type": "execute_result"
    }
   ],
   "source": [
    "torch.cuda.is_available()"
   ]
  },
  {
   "cell_type": "code",
   "execution_count": 22,
   "id": "732c1122-ad3a-4bed-abb0-a502dd0736f1",
   "metadata": {},
   "outputs": [],
   "source": [
    "cuda = torch.device(\"cuda\")"
   ]
  },
  {
   "cell_type": "code",
   "execution_count": 23,
   "id": "bdc793ef-0c3a-41a9-9599-aec374b95594",
   "metadata": {},
   "outputs": [
    {
     "data": {
      "text/plain": [
       "'Tesla V100-PCIE-32GB'"
      ]
     },
     "execution_count": 23,
     "metadata": {},
     "output_type": "execute_result"
    }
   ],
   "source": [
    "dev_id = torch.cuda.current_device()\n",
    "torch.cuda.get_device_name(dev_id)"
   ]
  },
  {
   "cell_type": "code",
   "execution_count": 24,
   "id": "23524a4b-13e9-4c49-8f12-ee3d4bfbec28",
   "metadata": {},
   "outputs": [],
   "source": [
    "num_epochs = 30\n",
    "hidden_size = 300\n",
    "depth = 3\n",
    "out_dim = 1"
   ]
  },
  {
   "cell_type": "code",
   "execution_count": 25,
   "id": "2b16129b-085a-485c-a748-4b509cc49306",
   "metadata": {},
   "outputs": [],
   "source": [
    "rate = 0.0\n",
    "head = nn.Sequential(\n",
    "    nn.Dropout(p=rate, inplace=False),\n",
    "    nn.Linear(hidden_size, hidden_size, bias=True),\n",
    "    nn.ReLU(),\n",
    "    nn.Dropout(p=rate, inplace=False),\n",
    "    nn.Linear(hidden_size, out_dim, bias=True),\n",
    ")\n",
    "model = nn.Sequential(\n",
    "    DMPNNEncoder(\n",
    "        hidden_size,\n",
    "        dataset.num_node_features,\n",
    "        dataset.num_edge_features,\n",
    "        depth,\n",
    "    ),\n",
    "    head,\n",
    ")\n",
    "initialize_weights(model)"
   ]
  },
  {
   "cell_type": "code",
   "execution_count": 26,
   "id": "99f9d59b-6469-40f1-876d-c6cab6cda433",
   "metadata": {},
   "outputs": [],
   "source": [
    "optimizer = torch.optim.Adam(model.parameters(), lr=1e-4)\n",
    "criterion = nn.BCEWithLogitsLoss()\n",
    "scheduler = torch.optim.lr_scheduler.OneCycleLR(\n",
    "    optimizer, max_lr=1e-3, steps_per_epoch=len(train_loader), epochs=num_epochs\n",
    ")"
   ]
  },
  {
   "cell_type": "code",
   "execution_count": 27,
   "id": "c864ecef-d1d4-4421-9fff-60c4d4ab0ba1",
   "metadata": {},
   "outputs": [],
   "source": [
    "config = {\n",
    "    \"loss\": criterion,\n",
    "    \"model\": model,\n",
    "    \"optimizer\": optimizer,\n",
    "    \"scheduler\": scheduler,\n",
    "}"
   ]
  },
  {
   "cell_type": "code",
   "execution_count": 28,
   "id": "b233e800-9aa3-41cc-a10d-9b35664c9a32",
   "metadata": {},
   "outputs": [],
   "source": [
    "best = {'epoch': -1, 'score': float(\"-inf\")}\n",
    "outfile = f\"{data_dir}/best_snapshot.pth\""
   ]
  },
  {
   "cell_type": "code",
   "execution_count": 29,
   "id": "3fb6169c-11e9-41c4-b29f-3d4e40cafc4a",
   "metadata": {},
   "outputs": [
    {
     "name": "stderr",
     "output_type": "stream",
     "text": [
      "Epoch 1\n",
      "100%|██████████| 659/659 [00:06<00:00, 105.34it/s]\n",
      "100%|██████████| 83/83 [00:00<00:00, 181.13it/s]\n",
      "* best-auc -inf ==> 0.647879\n",
      "val auc=0.647879 acc=0.980306\n",
      "Epoch 2\n",
      "100%|██████████| 659/659 [00:05<00:00, 111.52it/s]\n",
      "100%|██████████| 83/83 [00:00<00:00, 181.64it/s]\n",
      "* best-auc 0.647879 ==> 0.710235\n",
      "val auc=0.710235 acc=0.980306\n",
      "Epoch 3\n",
      "100%|██████████| 659/659 [00:05<00:00, 111.60it/s]\n",
      "100%|██████████| 83/83 [00:00<00:00, 181.29it/s]\n",
      "val auc=0.69596 acc=0.980306\n",
      "Epoch 4\n",
      "100%|██████████| 659/659 [00:05<00:00, 111.68it/s]\n",
      "100%|██████████| 83/83 [00:00<00:00, 174.61it/s]\n",
      "val auc=0.694016 acc=0.980306\n",
      "Epoch 5\n",
      "100%|██████████| 659/659 [00:05<00:00, 111.61it/s]\n",
      "100%|██████████| 83/83 [00:00<00:00, 180.97it/s]\n",
      "* best-auc 0.710235 ==> 0.766635\n",
      "val auc=0.766635 acc=0.980306\n",
      "Epoch 6\n",
      "100%|██████████| 659/659 [00:06<00:00, 108.73it/s]\n",
      "100%|██████████| 83/83 [00:00<00:00, 181.22it/s]\n",
      "val auc=0.73989 acc=0.980306\n",
      "Epoch 7\n",
      "100%|██████████| 659/659 [00:06<00:00, 106.86it/s]\n",
      "100%|██████████| 83/83 [00:00<00:00, 181.46it/s]\n",
      "val auc=0.728744 acc=0.981522\n",
      "Epoch 8\n",
      "100%|██████████| 659/659 [00:06<00:00, 107.61it/s]\n",
      "100%|██████████| 83/83 [00:00<00:00, 170.26it/s]\n",
      "val auc=0.692127 acc=0.980306\n",
      "Epoch 9\n",
      "100%|██████████| 659/659 [00:06<00:00, 107.48it/s]\n",
      "100%|██████████| 83/83 [00:00<00:00, 175.79it/s]\n",
      "val auc=0.734253 acc=0.981522\n",
      "Epoch 10\n",
      "100%|██████████| 659/659 [00:06<00:00, 107.64it/s]\n",
      "100%|██████████| 83/83 [00:00<00:00, 181.27it/s]\n",
      "val auc=0.725502 acc=0.981765\n",
      "Epoch 11\n",
      "100%|██████████| 659/659 [00:06<00:00, 107.42it/s]\n",
      "100%|██████████| 83/83 [00:00<00:00, 180.78it/s]\n",
      "val auc=0.754333 acc=0.981279\n",
      "Epoch 12\n",
      "100%|██████████| 659/659 [00:05<00:00, 110.88it/s]\n",
      "100%|██████████| 83/83 [00:00<00:00, 181.62it/s]\n",
      "val auc=0.752685 acc=0.983224\n",
      "Epoch 13\n",
      "100%|██████████| 659/659 [00:05<00:00, 111.77it/s]\n",
      "100%|██████████| 83/83 [00:00<00:00, 181.93it/s]\n",
      "val auc=0.728129 acc=0.982495\n",
      "Epoch 14\n",
      "100%|██████████| 659/659 [00:06<00:00, 108.91it/s]\n",
      "100%|██████████| 83/83 [00:00<00:00, 181.87it/s]\n",
      "val auc=0.729099 acc=0.982738\n",
      "Epoch 15\n",
      "100%|██████████| 659/659 [00:06<00:00, 107.50it/s]\n",
      "100%|██████████| 83/83 [00:00<00:00, 179.13it/s]\n",
      "val auc=0.758237 acc=0.982981\n",
      "Epoch 16\n",
      "100%|██████████| 659/659 [00:06<00:00, 107.66it/s]\n",
      "100%|██████████| 83/83 [00:00<00:00, 116.47it/s]\n",
      "val auc=0.729917 acc=0.983224\n",
      "Epoch 17\n",
      "100%|██████████| 659/659 [00:06<00:00, 107.14it/s]\n",
      "100%|██████████| 83/83 [00:00<00:00, 177.84it/s]\n",
      "val auc=0.752655 acc=0.983224\n",
      "Epoch 18\n",
      "100%|██████████| 659/659 [00:06<00:00, 107.84it/s]\n",
      "100%|██████████| 83/83 [00:00<00:00, 166.75it/s]\n",
      "val auc=0.756598 acc=0.983224\n",
      "Epoch 19\n",
      "100%|██████████| 659/659 [00:05<00:00, 110.64it/s]\n",
      "100%|██████████| 83/83 [00:00<00:00, 180.49it/s]\n",
      "val auc=0.753267 acc=0.981036\n",
      "Epoch 20\n",
      "100%|██████████| 659/659 [00:05<00:00, 110.76it/s]\n",
      "100%|██████████| 83/83 [00:00<00:00, 180.01it/s]\n",
      "val auc=0.753246 acc=0.983224\n",
      "Epoch 21\n",
      "100%|██████████| 659/659 [00:05<00:00, 110.67it/s]\n",
      "100%|██████████| 83/83 [00:00<00:00, 180.50it/s]\n",
      "val auc=0.744629 acc=0.982008\n",
      "Epoch 22\n",
      "100%|██████████| 659/659 [00:05<00:00, 110.84it/s]\n",
      "100%|██████████| 83/83 [00:00<00:00, 180.59it/s]\n",
      "val auc=0.764367 acc=0.981522\n",
      "Epoch 23\n",
      "100%|██████████| 659/659 [00:05<00:00, 110.77it/s]\n",
      "100%|██████████| 83/83 [00:00<00:00, 180.32it/s]\n",
      "val auc=0.753221 acc=0.981522\n",
      "Epoch 24\n",
      "100%|██████████| 659/659 [00:05<00:00, 109.90it/s]\n",
      "100%|██████████| 83/83 [00:00<00:00, 180.75it/s]\n",
      "val auc=0.763558 acc=0.980306\n",
      "Epoch 25\n",
      "100%|██████████| 659/659 [00:05<00:00, 110.53it/s]\n",
      "100%|██████████| 83/83 [00:00<00:00, 180.41it/s]\n",
      "val auc=0.766017 acc=0.981036\n",
      "Epoch 26\n",
      "100%|██████████| 659/659 [00:05<00:00, 110.75it/s]\n",
      "100%|██████████| 83/83 [00:00<00:00, 162.43it/s]\n",
      "* best-auc 0.766635 ==> 0.771737\n",
      "val auc=0.771737 acc=0.981279\n",
      "Epoch 27\n",
      "100%|██████████| 659/659 [00:06<00:00, 109.55it/s]\n",
      "100%|██████████| 83/83 [00:00<00:00, 180.60it/s]\n",
      "* best-auc 0.771737 ==> 0.771853\n",
      "val auc=0.771853 acc=0.980793\n",
      "Epoch 28\n",
      "100%|██████████| 659/659 [00:06<00:00, 107.17it/s]\n",
      "100%|██████████| 83/83 [00:00<00:00, 178.16it/s]\n",
      "val auc=0.769042 acc=0.980063\n",
      "Epoch 29\n",
      "100%|██████████| 659/659 [00:06<00:00, 107.32it/s]\n",
      "100%|██████████| 83/83 [00:00<00:00, 179.65it/s]\n",
      "val auc=0.767637 acc=0.981036\n",
      "Epoch 30\n",
      "100%|██████████| 659/659 [00:06<00:00, 107.80it/s]\n",
      "100%|██████████| 83/83 [00:00<00:00, 173.14it/s]\n",
      "val auc=0.768194 acc=0.980793\n"
     ]
    }
   ],
   "source": [
    "for epoch in range(num_epochs):\n",
    "    print(f\"Epoch {epoch+1}\", file=sys.stderr)\n",
    "    train(config, train_loader, device=cuda)\n",
    "    y_pred, y_true = make_prediction(config, valid_loader, device=cuda)\n",
    "    auc = roc_auc_score(y_true, y_pred)\n",
    "    if auc > best['score']:\n",
    "        print(f\"* best-auc {best['score']:.6} ==> {auc:.6}\", file=sys.stderr)\n",
    "        best['score'] = auc\n",
    "        best['epoch'] = epoch+1\n",
    "        torch.save(model.state_dict(), outfile)\n",
    "    acc = accuracy_score(y_true, (y_pred > 0.5).int())\n",
    "    print(f\"val auc={auc:.6} acc={acc:.6}\", file=sys.stderr)"
   ]
  },
  {
   "cell_type": "code",
   "execution_count": 30,
   "id": "2e7bb594-61ad-41c2-9720-0cbca619e331",
   "metadata": {},
   "outputs": [
    {
     "name": "stdout",
     "output_type": "stream",
     "text": [
      "best validation auc = 0.7718529541446207 on epoch 27\n"
     ]
    }
   ],
   "source": [
    "print(f\"best validation auc = {best['score']} on epoch {best['epoch']}\")"
   ]
  },
  {
   "cell_type": "markdown",
   "id": "6a2f9b20-a802-40a8-9714-410b1b596f46",
   "metadata": {},
   "source": [
    "#### final "
   ]
  },
  {
   "cell_type": "code",
   "execution_count": 31,
   "id": "ecff8a60-9c86-401d-88fb-942a185b24a9",
   "metadata": {},
   "outputs": [
    {
     "name": "stderr",
     "output_type": "stream",
     "text": [
      "100%|██████████| 83/83 [00:00<00:00, 181.16it/s]\n",
      "test auc=0.73878 acc=0.967177\n"
     ]
    }
   ],
   "source": [
    "y_pred, y_true = make_prediction(config, test_loader, device=cuda)\n",
    "auc = roc_auc_score(y_true, y_pred)\n",
    "acc = accuracy_score(y_true, (y_pred > 0.5).int())\n",
    "print(f\"test auc={auc:.6} acc={acc:.6}\", file=sys.stderr)"
   ]
  },
  {
   "cell_type": "markdown",
   "id": "fe6f664f-27ca-4f75-aa65-62c8253bcbbe",
   "metadata": {},
   "source": [
    "#### best snapshot"
   ]
  },
  {
   "cell_type": "code",
   "execution_count": 32,
   "id": "61210a80-753a-4a15-bb8a-16262d9058f2",
   "metadata": {},
   "outputs": [
    {
     "data": {
      "text/plain": [
       "<All keys matched successfully>"
      ]
     },
     "execution_count": 32,
     "metadata": {},
     "output_type": "execute_result"
    }
   ],
   "source": [
    "model = nn.Sequential(\n",
    "    DMPNNEncoder(\n",
    "        hidden_size,\n",
    "        dataset.num_node_features,\n",
    "        dataset.num_edge_features,\n",
    "        depth,\n",
    "    ),\n",
    "    head,\n",
    ")\n",
    "model.load_state_dict(torch.load(outfile))"
   ]
  },
  {
   "cell_type": "code",
   "execution_count": 33,
   "id": "8754e8ff-e303-4b90-8043-f5aa3a755069",
   "metadata": {},
   "outputs": [],
   "source": [
    "optimizer = torch.optim.Adam(model.parameters(), lr=1e-4)\n",
    "criterion = nn.BCEWithLogitsLoss()\n",
    "scheduler = torch.optim.lr_scheduler.OneCycleLR(\n",
    "    optimizer, max_lr=1e-3, steps_per_epoch=len(train_loader), epochs=num_epochs\n",
    ")"
   ]
  },
  {
   "cell_type": "code",
   "execution_count": 34,
   "id": "31557aff-f77f-4a42-9ca6-c25871fcdcf1",
   "metadata": {},
   "outputs": [],
   "source": [
    "config = {\n",
    "    \"loss\": criterion,\n",
    "    \"model\": model,\n",
    "    \"optimizer\": optimizer,\n",
    "    \"scheduler\": scheduler,\n",
    "}"
   ]
  },
  {
   "cell_type": "code",
   "execution_count": 35,
   "id": "9285aaef-2b2c-44a0-9570-f67a3ff49078",
   "metadata": {},
   "outputs": [
    {
     "name": "stderr",
     "output_type": "stream",
     "text": [
      "100%|██████████| 659/659 [00:03<00:00, 176.07it/s]\n",
      "train auc=0.972638 acc=0.979636\n"
     ]
    }
   ],
   "source": [
    "y_pred, y_true = make_prediction(config, train_loader, device=cuda)\n",
    "auc = roc_auc_score(y_true, y_pred)\n",
    "acc = accuracy_score(y_true, (y_pred > 0.5).int())\n",
    "print(f\"train auc={auc:.6} acc={acc:.6}\", file=sys.stderr)"
   ]
  },
  {
   "cell_type": "code",
   "execution_count": 36,
   "id": "fb25c16b-71cd-4fe2-96b4-9eb7fbd505bb",
   "metadata": {},
   "outputs": [
    {
     "name": "stderr",
     "output_type": "stream",
     "text": [
      "100%|██████████| 83/83 [00:00<00:00, 179.44it/s]\n",
      "valid auc=0.771853 acc=0.980793\n"
     ]
    }
   ],
   "source": [
    "y_pred, y_true = make_prediction(config, valid_loader, device=cuda)\n",
    "auc = roc_auc_score(y_true, y_pred)\n",
    "acc = accuracy_score(y_true, (y_pred > 0.5).int())\n",
    "print(f\"valid auc={auc:.6} acc={acc:.6}\", file=sys.stderr)"
   ]
  },
  {
   "cell_type": "code",
   "execution_count": 37,
   "id": "1562a7d7-b18f-477c-9655-f1618ef2394d",
   "metadata": {},
   "outputs": [
    {
     "name": "stderr",
     "output_type": "stream",
     "text": [
      "100%|██████████| 83/83 [00:00<00:00, 181.12it/s]\n",
      "test auc=0.741718 acc=0.966934\n"
     ]
    }
   ],
   "source": [
    "y_pred, y_true = make_prediction(config, test_loader, device=cuda)\n",
    "auc = roc_auc_score(y_true, y_pred)\n",
    "acc = accuracy_score(y_true, (y_pred > 0.5).int())\n",
    "print(f\"test auc={auc:.6} acc={acc:.6}\", file=sys.stderr)"
   ]
  },
  {
   "cell_type": "markdown",
   "id": "f6a8dba1-cee8-41aa-8ba5-a9c4aa3155c2",
   "metadata": {},
   "source": [
    "# Using ChemProp Atom- and Bond- Features"
   ]
  },
  {
   "cell_type": "code",
   "execution_count": 38,
   "id": "e4b26d55-f324-437a-b07b-ac3d6fdeb8e0",
   "metadata": {},
   "outputs": [],
   "source": [
    "seed = 0\n",
    "torch.manual_seed(seed);"
   ]
  },
  {
   "cell_type": "code",
   "execution_count": 39,
   "id": "35fb045a-6de9-49e1-9b86-961612c7ec94",
   "metadata": {},
   "outputs": [],
   "source": [
    "def get_dataset(df):\n",
    "    data_list = []\n",
    "    print(\"Convert to PyG Objects...\", file=sys.stderr)\n",
    "    for _, row in tqdm(df.iterrows(), total=len(df)):\n",
    "        smi = row[\"smiles\"]\n",
    "        data = smiles2data(smi, explicit_h=True)\n",
    "        data.y = torch.tensor([[row[\"HIV_active\"]]])\n",
    "        data_list.append(data)\n",
    "    print(\"Convert to RevIndexedDataset...\", file=sys.stderr)\n",
    "    return RevIndexedDataset(data_list)"
   ]
  },
  {
   "cell_type": "code",
   "execution_count": 40,
   "id": "8f7a4d61-95eb-40e2-81fe-252b0cb6077c",
   "metadata": {},
   "outputs": [],
   "source": [
    "data_url = \"http://snap.stanford.edu/ogb/data/graphproppred/csv_mol_download/hiv.zip\""
   ]
  },
  {
   "cell_type": "code",
   "execution_count": 41,
   "id": "cd4003b0-c536-4c79-8bfc-cf458b7724ac",
   "metadata": {},
   "outputs": [],
   "source": [
    "r = requests.get(data_url)\n",
    "z = zipfile.ZipFile(io.BytesIO(r.content))\n",
    "z.extractall(data_dir)"
   ]
  },
  {
   "cell_type": "code",
   "execution_count": 42,
   "id": "83ee0341-0b90-4e02-97e3-4d9d32a2d43a",
   "metadata": {},
   "outputs": [
    {
     "name": "stderr",
     "output_type": "stream",
     "text": [
      "Convert to PyG Objects...\n",
      " 85%|████████▌ | 35129/41127 [01:14<00:11, 500.23it/s]RDKit WARNING: [21:15:46] WARNING: not removing hydrogen atom without neighbors\n",
      "RDKit WARNING: [21:15:46] WARNING: not removing hydrogen atom without neighbors\n",
      "100%|██████████| 41127/41127 [01:28<00:00, 463.81it/s]\n",
      "Convert to RevIndexedDataset...\n",
      "100%|██████████| 41127/41127 [01:37<00:00, 423.82it/s]\n"
     ]
    }
   ],
   "source": [
    "df = pd.read_csv(f\"{data_dir}/hiv/mapping/mol.csv.gz\")\n",
    "dataset = get_dataset(df)"
   ]
  },
  {
   "cell_type": "code",
   "execution_count": 43,
   "id": "430e5974-e665-4ec1-b6b5-4122acaa070f",
   "metadata": {},
   "outputs": [],
   "source": [
    "split = {\n",
    "    \"train\": pd.read_csv(f\"{data_dir}/hiv/split/scaffold/train.csv.gz\", header=None),\n",
    "    \"valid\": pd.read_csv(f\"{data_dir}/hiv/split/scaffold/valid.csv.gz\", header=None),\n",
    "    \"test\": pd.read_csv(f\"{data_dir}/hiv/split/scaffold/test.csv.gz\", header=None),\n",
    "}\n",
    "train_idx = split[\"train\"].to_numpy().flatten()\n",
    "valid_idx = split[\"valid\"].to_numpy().flatten()\n",
    "test_idx = split[\"test\"].to_numpy().flatten()"
   ]
  },
  {
   "cell_type": "code",
   "execution_count": 44,
   "id": "aa0d71b8-11fe-4442-acf4-003a94985a0f",
   "metadata": {},
   "outputs": [
    {
     "name": "stderr",
     "output_type": "stream",
     "text": [
      "100%|██████████| 32901/32901 [00:01<00:00, 26711.67it/s]\n",
      "100%|██████████| 4113/4113 [00:00<00:00, 24006.44it/s]\n",
      "100%|██████████| 4113/4113 [00:00<00:00, 26878.06it/s]\n"
     ]
    }
   ],
   "source": [
    "batch_size = 50\n",
    "\n",
    "train_raw = torch.utils.data.Subset(dataset, train_idx)\n",
    "valid_raw = torch.utils.data.Subset(dataset, valid_idx)\n",
    "test_raw = torch.utils.data.Subset(dataset, test_idx)\n",
    "\n",
    "scaler = FeatureScaler(targets=[\"x\", \"edge_attr\"])\n",
    "train_data = scaler.fit_transform(train_raw)\n",
    "valid_data = scaler.transform(valid_raw)\n",
    "test_data = scaler.transform(test_raw)\n",
    "\n",
    "train_loader = DataLoader(train_data, batch_size=batch_size, shuffle=True)\n",
    "valid_loader = DataLoader(valid_data, batch_size=batch_size, shuffle=False)\n",
    "test_loader = DataLoader(test_data, batch_size=batch_size, shuffle=False)"
   ]
  },
  {
   "cell_type": "code",
   "execution_count": 45,
   "id": "2452f922-628d-4903-84e6-c67b78f5bc59",
   "metadata": {},
   "outputs": [],
   "source": [
    "cuda = torch.device(\"cuda\")"
   ]
  },
  {
   "cell_type": "code",
   "execution_count": 46,
   "id": "71707999-c438-4f03-8512-17ef5017970e",
   "metadata": {},
   "outputs": [
    {
     "data": {
      "text/plain": [
       "'Tesla V100-PCIE-32GB'"
      ]
     },
     "execution_count": 46,
     "metadata": {},
     "output_type": "execute_result"
    }
   ],
   "source": [
    "dev_id = torch.cuda.current_device()\n",
    "torch.cuda.get_device_name(dev_id)"
   ]
  },
  {
   "cell_type": "code",
   "execution_count": 47,
   "id": "fe9092a3-4ee5-4135-98f2-812437197624",
   "metadata": {},
   "outputs": [],
   "source": [
    "num_epochs = 30\n",
    "hidden_size = 300\n",
    "depth = 3\n",
    "out_dim = 1"
   ]
  },
  {
   "cell_type": "code",
   "execution_count": 48,
   "id": "a14f0050-2138-486b-82cd-5e365acca61a",
   "metadata": {},
   "outputs": [],
   "source": [
    "rate = 0.0\n",
    "head = nn.Sequential(\n",
    "    nn.Dropout(p=rate, inplace=False),\n",
    "    nn.Linear(hidden_size, hidden_size, bias=True),\n",
    "    nn.ReLU(),\n",
    "    nn.Dropout(p=rate, inplace=False),\n",
    "    nn.Linear(hidden_size, out_dim, bias=True),\n",
    ")\n",
    "model = nn.Sequential(\n",
    "    DMPNNEncoder(\n",
    "        hidden_size,\n",
    "        dataset.num_node_features,\n",
    "        dataset.num_edge_features,\n",
    "        depth,\n",
    "    ),\n",
    "    head,\n",
    ")\n",
    "initialize_weights(model)"
   ]
  },
  {
   "cell_type": "code",
   "execution_count": 49,
   "id": "5ecf036f-4f21-40e7-9291-2cc3616c1861",
   "metadata": {},
   "outputs": [
    {
     "data": {
      "text/plain": [
       "Sequential(\n",
       "  (0): DMPNNEncoder(\n",
       "    (act_func): ReLU()\n",
       "    (W1): Linear(in_features=147, out_features=300, bias=False)\n",
       "    (W2): Linear(in_features=300, out_features=300, bias=False)\n",
       "    (W3): Linear(in_features=433, out_features=300, bias=True)\n",
       "  )\n",
       "  (1): Sequential(\n",
       "    (0): Dropout(p=0.0, inplace=False)\n",
       "    (1): Linear(in_features=300, out_features=300, bias=True)\n",
       "    (2): ReLU()\n",
       "    (3): Dropout(p=0.0, inplace=False)\n",
       "    (4): Linear(in_features=300, out_features=1, bias=True)\n",
       "  )\n",
       ")"
      ]
     },
     "execution_count": 49,
     "metadata": {},
     "output_type": "execute_result"
    }
   ],
   "source": [
    "model"
   ]
  },
  {
   "cell_type": "code",
   "execution_count": 50,
   "id": "3c50a416-a55f-4312-97f5-d1712413c458",
   "metadata": {},
   "outputs": [
    {
     "data": {
      "text/plain": [
       "354901"
      ]
     },
     "execution_count": 50,
     "metadata": {},
     "output_type": "execute_result"
    }
   ],
   "source": [
    "sum(p.numel() for p in model.parameters())"
   ]
  },
  {
   "cell_type": "code",
   "execution_count": 51,
   "id": "5aafe7ff-8650-4955-aac2-df842f08ccfb",
   "metadata": {},
   "outputs": [],
   "source": [
    "optimizer = torch.optim.Adam(model.parameters(), lr=1e-5)\n",
    "criterion = nn.BCEWithLogitsLoss()\n",
    "scheduler = NoamLR(\n",
    "    optimizer,\n",
    "    warmup_epochs=[2],\n",
    "    total_epochs=[num_epochs],\n",
    "    steps_per_epoch=len(train_loader),\n",
    "    init_lr=[1e-4],\n",
    "    max_lr=[1e-3],\n",
    "    final_lr=[1e-4],\n",
    ")"
   ]
  },
  {
   "cell_type": "code",
   "execution_count": 52,
   "id": "2381e962-25ed-4ec1-be90-b069642d970a",
   "metadata": {},
   "outputs": [
    {
     "data": {
      "text/plain": [
       "(133, 14)"
      ]
     },
     "execution_count": 52,
     "metadata": {},
     "output_type": "execute_result"
    }
   ],
   "source": [
    "dataset.num_node_features, dataset.num_edge_features"
   ]
  },
  {
   "cell_type": "code",
   "execution_count": 53,
   "id": "d05a0d99-5f2a-4b16-8ada-c5425e151e1e",
   "metadata": {},
   "outputs": [],
   "source": [
    "config = {\n",
    "    \"loss\": criterion,\n",
    "    \"model\": model,\n",
    "    \"optimizer\": optimizer,\n",
    "    \"scheduler\": scheduler,\n",
    "}"
   ]
  },
  {
   "cell_type": "code",
   "execution_count": 54,
   "id": "f4b47e25-456c-4e14-b8c1-e09ee787a10b",
   "metadata": {},
   "outputs": [],
   "source": [
    "best = {'epoch': -1, 'score': float(\"-inf\")}\n",
    "outfile = f\"{data_dir}/best_snapshot.pth\""
   ]
  },
  {
   "cell_type": "code",
   "execution_count": 55,
   "id": "be9d3ac9-e729-4de3-ba8a-7604623a0e83",
   "metadata": {},
   "outputs": [
    {
     "name": "stderr",
     "output_type": "stream",
     "text": [
      "Epoch 1\n",
      "100%|██████████| 659/659 [00:06<00:00, 102.12it/s]\n",
      "100%|██████████| 83/83 [00:00<00:00, 162.82it/s]\n",
      "* best-auc -inf ==> 0.717424\n",
      "val auc=0.717424 acc=0.980306\n",
      "Epoch 2\n",
      "100%|██████████| 659/659 [00:06<00:00, 102.22it/s]\n",
      "100%|██████████| 83/83 [00:00<00:00, 162.86it/s]\n",
      "* best-auc 0.717424 ==> 0.760888\n",
      "val auc=0.760888 acc=0.979577\n",
      "Epoch 3\n",
      "100%|██████████| 659/659 [00:06<00:00, 102.92it/s]\n",
      "100%|██████████| 83/83 [00:00<00:00, 163.20it/s]\n",
      "val auc=0.719274 acc=0.981522\n",
      "Epoch 4\n",
      "100%|██████████| 659/659 [00:06<00:00, 102.91it/s]\n",
      "100%|██████████| 83/83 [00:00<00:00, 162.74it/s]\n",
      "val auc=0.743169 acc=0.981279\n",
      "Epoch 5\n",
      "100%|██████████| 659/659 [00:06<00:00, 102.94it/s]\n",
      "100%|██████████| 83/83 [00:00<00:00, 162.82it/s]\n",
      "* best-auc 0.760888 ==> 0.779459\n",
      "val auc=0.779459 acc=0.980306\n",
      "Epoch 6\n",
      "100%|██████████| 659/659 [00:06<00:00, 100.03it/s]\n",
      "100%|██████████| 83/83 [00:00<00:00, 149.93it/s]\n",
      "val auc=0.762064 acc=0.982008\n",
      "Epoch 7\n",
      "100%|██████████| 659/659 [00:06<00:00, 99.31it/s] \n",
      "100%|██████████| 83/83 [00:00<00:00, 157.40it/s]\n",
      "val auc=0.774848 acc=0.981765\n",
      "Epoch 8\n",
      "100%|██████████| 659/659 [00:06<00:00, 98.74it/s] \n",
      "100%|██████████| 83/83 [00:00<00:00, 146.55it/s]\n",
      "* best-auc 0.779459 ==> 0.78482\n",
      "val auc=0.78482 acc=0.982981\n",
      "Epoch 9\n",
      "100%|██████████| 659/659 [00:06<00:00, 99.74it/s] \n",
      "100%|██████████| 83/83 [00:00<00:00, 163.07it/s]\n",
      "val auc=0.776626 acc=0.982008\n",
      "Epoch 10\n",
      "100%|██████████| 659/659 [00:06<00:00, 99.64it/s] \n",
      "100%|██████████| 83/83 [00:00<00:00, 158.00it/s]\n",
      "val auc=0.770907 acc=0.982008\n",
      "Epoch 11\n",
      "100%|██████████| 659/659 [00:06<00:00, 99.32it/s] \n",
      "100%|██████████| 83/83 [00:00<00:00, 163.18it/s]\n",
      "val auc=0.778632 acc=0.980793\n",
      "Epoch 12\n",
      "100%|██████████| 659/659 [00:06<00:00, 99.40it/s] \n",
      "100%|██████████| 83/83 [00:00<00:00, 163.06it/s]\n",
      "val auc=0.778292 acc=0.980793\n",
      "Epoch 13\n",
      "100%|██████████| 659/659 [00:06<00:00, 99.58it/s] \n",
      "100%|██████████| 83/83 [00:00<00:00, 157.89it/s]\n",
      "* best-auc 0.78482 ==> 0.790476\n",
      "val auc=0.790476 acc=0.980549\n",
      "Epoch 14\n",
      "100%|██████████| 659/659 [00:06<00:00, 99.79it/s] \n",
      "100%|██████████| 83/83 [00:00<00:00, 155.98it/s]\n",
      "val auc=0.777273 acc=0.980063\n",
      "Epoch 15\n",
      "100%|██████████| 659/659 [00:06<00:00, 99.77it/s] \n",
      "100%|██████████| 83/83 [00:00<00:00, 163.06it/s]\n",
      "val auc=0.781575 acc=0.97982\n",
      "Epoch 16\n",
      "100%|██████████| 659/659 [00:06<00:00, 99.54it/s] \n",
      "100%|██████████| 83/83 [00:00<00:00, 162.08it/s]\n",
      "val auc=0.77911 acc=0.978604\n",
      "Epoch 17\n",
      "100%|██████████| 659/659 [00:06<00:00, 99.89it/s] \n",
      "100%|██████████| 83/83 [00:00<00:00, 161.20it/s]\n",
      "val auc=0.766504 acc=0.980306\n",
      "Epoch 18\n",
      "100%|██████████| 659/659 [00:06<00:00, 99.45it/s] \n",
      "100%|██████████| 83/83 [00:00<00:00, 162.91it/s]\n",
      "val auc=0.769544 acc=0.97982\n",
      "Epoch 19\n",
      "100%|██████████| 659/659 [00:06<00:00, 99.60it/s] \n",
      "100%|██████████| 83/83 [00:00<00:00, 159.65it/s]\n",
      "val auc=0.765542 acc=0.97982\n",
      "Epoch 20\n",
      "100%|██████████| 659/659 [00:06<00:00, 99.59it/s] \n",
      "100%|██████████| 83/83 [00:00<00:00, 162.83it/s]\n",
      "* best-auc 0.790476 ==> 0.794894\n",
      "val auc=0.794894 acc=0.979334\n",
      "Epoch 21\n",
      "100%|██████████| 659/659 [00:06<00:00, 100.01it/s]\n",
      "100%|██████████| 83/83 [00:00<00:00, 163.17it/s]\n",
      "val auc=0.783684 acc=0.978848\n",
      "Epoch 22\n",
      "100%|██████████| 659/659 [00:06<00:00, 99.26it/s] \n",
      "100%|██████████| 83/83 [00:00<00:00, 162.76it/s]\n",
      "val auc=0.77129 acc=0.979577\n",
      "Epoch 23\n",
      "100%|██████████| 659/659 [00:06<00:00, 99.42it/s] \n",
      "100%|██████████| 83/83 [00:00<00:00, 163.07it/s]\n",
      "val auc=0.787316 acc=0.980306\n",
      "Epoch 24\n",
      "100%|██████████| 659/659 [00:06<00:00, 99.48it/s] \n",
      "100%|██████████| 83/83 [00:00<00:00, 163.42it/s]\n",
      "val auc=0.780552 acc=0.978604\n",
      "Epoch 25\n",
      "100%|██████████| 659/659 [00:06<00:00, 99.08it/s] \n",
      "100%|██████████| 83/83 [00:00<00:00, 162.71it/s]\n",
      "val auc=0.779799 acc=0.980306\n",
      "Epoch 26\n",
      "100%|██████████| 659/659 [00:06<00:00, 99.51it/s] \n",
      "100%|██████████| 83/83 [00:00<00:00, 159.02it/s]\n",
      "val auc=0.793384 acc=0.981036\n",
      "Epoch 27\n",
      "100%|██████████| 659/659 [00:06<00:00, 99.52it/s] \n",
      "100%|██████████| 83/83 [00:00<00:00, 163.13it/s]\n",
      "val auc=0.779912 acc=0.978604\n",
      "Epoch 28\n",
      "100%|██████████| 659/659 [00:06<00:00, 99.29it/s] \n",
      "100%|██████████| 83/83 [00:01<00:00, 73.53it/s] \n",
      "val auc=0.781388 acc=0.977875\n",
      "Epoch 29\n",
      "100%|██████████| 659/659 [00:06<00:00, 97.36it/s]\n",
      "100%|██████████| 83/83 [00:00<00:00, 153.31it/s]\n",
      "val auc=0.776617 acc=0.977632\n",
      "Epoch 30\n",
      "100%|██████████| 659/659 [00:06<00:00, 97.26it/s]\n",
      "100%|██████████| 83/83 [00:00<00:00, 156.25it/s]\n",
      "val auc=0.777824 acc=0.977875\n"
     ]
    }
   ],
   "source": [
    "for epoch in range(num_epochs):\n",
    "    print(f\"Epoch {epoch+1}\", file=sys.stderr)\n",
    "    train(config, train_loader, device=cuda)\n",
    "    y_pred, y_true = make_prediction(config, valid_loader, device=cuda)\n",
    "    auc = roc_auc_score(y_true, y_pred)\n",
    "    if auc > best['score']:\n",
    "        print(f\"* best-auc {best['score']:.6} ==> {auc:.6}\", file=sys.stderr)\n",
    "        best['score'] = auc\n",
    "        best['epoch'] = epoch+1\n",
    "        torch.save(model.state_dict(), outfile)\n",
    "    acc = accuracy_score(y_true, (y_pred > 0.5).int())\n",
    "    print(f\"val auc={auc:.6} acc={acc:.6}\", file=sys.stderr)"
   ]
  },
  {
   "cell_type": "code",
   "execution_count": 56,
   "id": "6302f5a3-601d-4931-b8e6-8a36aecd0972",
   "metadata": {},
   "outputs": [
    {
     "name": "stdout",
     "output_type": "stream",
     "text": [
      "best validation auc = 0.7948939349402312 on epoch 20\n"
     ]
    }
   ],
   "source": [
    "print(f\"best validation auc = {best['score']} on epoch {best['epoch']}\")"
   ]
  },
  {
   "cell_type": "markdown",
   "id": "05bf12a4-74b2-44d5-b032-1ec3c6406856",
   "metadata": {},
   "source": [
    "#### final "
   ]
  },
  {
   "cell_type": "code",
   "execution_count": 57,
   "id": "067d2eb0-225e-4e1f-bd3f-3b58379214c7",
   "metadata": {},
   "outputs": [
    {
     "name": "stderr",
     "output_type": "stream",
     "text": [
      "100%|██████████| 83/83 [00:00<00:00, 157.68it/s]\n",
      "test auc=0.767595 acc=0.962071\n"
     ]
    }
   ],
   "source": [
    "y_pred, y_true = make_prediction(config, test_loader, device=cuda)\n",
    "auc = roc_auc_score(y_true, y_pred)\n",
    "acc = accuracy_score(y_true, (y_pred > 0.5).int())\n",
    "print(f\"test auc={auc:.6} acc={acc:.6}\", file=sys.stderr)"
   ]
  },
  {
   "cell_type": "markdown",
   "id": "7dd1efe5-4493-494b-beb9-5bec1701bbcf",
   "metadata": {},
   "source": [
    "#### best snapshot"
   ]
  },
  {
   "cell_type": "code",
   "execution_count": 58,
   "id": "04bb6f96-9f2a-4aeb-be03-d26b2a21b50c",
   "metadata": {},
   "outputs": [
    {
     "data": {
      "text/plain": [
       "<All keys matched successfully>"
      ]
     },
     "execution_count": 58,
     "metadata": {},
     "output_type": "execute_result"
    }
   ],
   "source": [
    "model = nn.Sequential(\n",
    "    DMPNNEncoder(\n",
    "        hidden_size,\n",
    "        dataset.num_node_features,\n",
    "        dataset.num_edge_features,\n",
    "        depth,\n",
    "    ),\n",
    "    head,\n",
    ")\n",
    "model.load_state_dict(torch.load(outfile))"
   ]
  },
  {
   "cell_type": "code",
   "execution_count": 59,
   "id": "9df34e51-c9bd-41c7-9855-43f28cdec474",
   "metadata": {},
   "outputs": [],
   "source": [
    "optimizer = torch.optim.Adam(model.parameters(), lr=1e-5)\n",
    "criterion = nn.BCEWithLogitsLoss()\n",
    "scheduler = NoamLR(\n",
    "    optimizer,\n",
    "    warmup_epochs=[2],\n",
    "    total_epochs=[num_epochs],\n",
    "    steps_per_epoch=len(train_loader),\n",
    "    init_lr=[1e-4],\n",
    "    max_lr=[1e-3],\n",
    "    final_lr=[1e-4],\n",
    ")"
   ]
  },
  {
   "cell_type": "code",
   "execution_count": 60,
   "id": "b609331a-c8bf-43d3-9b14-96fa379c156c",
   "metadata": {},
   "outputs": [],
   "source": [
    "config = {\n",
    "    \"loss\": criterion,\n",
    "    \"model\": model,\n",
    "    \"optimizer\": optimizer,\n",
    "    \"scheduler\": scheduler,\n",
    "}"
   ]
  },
  {
   "cell_type": "code",
   "execution_count": 61,
   "id": "92a00052-ce48-4254-999f-f68e405ade89",
   "metadata": {},
   "outputs": [
    {
     "name": "stderr",
     "output_type": "stream",
     "text": [
      "100%|██████████| 659/659 [00:04<00:00, 155.09it/s]\n",
      "train auc=0.975327 acc=0.978906\n"
     ]
    }
   ],
   "source": [
    "y_pred, y_true = make_prediction(config, train_loader, device=cuda)\n",
    "auc = roc_auc_score(y_true, y_pred)\n",
    "acc = accuracy_score(y_true, (y_pred > 0.5).int())\n",
    "print(f\"train auc={auc:.6} acc={acc:.6}\", file=sys.stderr)"
   ]
  },
  {
   "cell_type": "code",
   "execution_count": 62,
   "id": "255ca6dd-2c82-4e5f-8438-42c11928d586",
   "metadata": {},
   "outputs": [
    {
     "name": "stderr",
     "output_type": "stream",
     "text": [
      "100%|██████████| 83/83 [00:00<00:00, 154.71it/s]\n",
      "valid auc=0.794894 acc=0.979334\n"
     ]
    }
   ],
   "source": [
    "y_pred, y_true = make_prediction(config, valid_loader, device=cuda)\n",
    "auc = roc_auc_score(y_true, y_pred)\n",
    "acc = accuracy_score(y_true, (y_pred > 0.5).int())\n",
    "print(f\"valid auc={auc:.6} acc={acc:.6}\", file=sys.stderr)"
   ]
  },
  {
   "cell_type": "code",
   "execution_count": 63,
   "id": "f98f37ec-c089-4671-8b71-93518331e7de",
   "metadata": {},
   "outputs": [
    {
     "name": "stderr",
     "output_type": "stream",
     "text": [
      "100%|██████████| 83/83 [00:00<00:00, 157.72it/s]\n",
      "test auc=0.787761 acc=0.964746\n"
     ]
    }
   ],
   "source": [
    "y_pred, y_true = make_prediction(config, test_loader, device=cuda)\n",
    "auc = roc_auc_score(y_true, y_pred)\n",
    "acc = accuracy_score(y_true, (y_pred > 0.5).int())\n",
    "print(f\"test auc={auc:.6} acc={acc:.6}\", file=sys.stderr)"
   ]
  },
  {
   "cell_type": "markdown",
   "id": "0fe3e85b-a5f3-44fd-89cc-a8e2f4a88123",
   "metadata": {},
   "source": [
    "#### performances of other models"
   ]
  },
  {
   "cell_type": "markdown",
   "id": "253b6620-5798-47e1-a394-f9b780fd7d24",
   "metadata": {},
   "source": [
    "https://ogb.stanford.edu/docs/leader_graphprop/#ogbg-molhiv"
   ]
  },
  {
   "cell_type": "markdown",
   "id": "253a014f-57ab-48c5-b896-2c24581beac8",
   "metadata": {},
   "source": [
    "#### original chemprop"
   ]
  },
  {
   "cell_type": "markdown",
   "id": "80098131-e25a-42ca-812f-7cd9da786fe9",
   "metadata": {},
   "source": [
    "```bash\n",
    "$ python train.py --data_path ../train_hiv.csv --separate_val_path ../valid_hiv.csv --separate_test_path ../test_hiv.csv --target_columns HIV_active --smiles_columns smiles --dataset_type classification --save_dir tmp --explicit_h --seed 0 --quiet\n",
    "```"
   ]
  },
  {
   "cell_type": "markdown",
   "id": "68887086-c92e-4fd1-9c3e-eef4dd0d5d3c",
   "metadata": {},
   "source": [
    "```bash\n",
    "Seed 0 ==> test auc = 0.794824\n",
    "Seed 1 ==> test auc = 0.788354\n",
    "Seed 2 ==> test auc = 0.772676\n",
    "```"
   ]
  },
  {
   "cell_type": "markdown",
   "id": "423c9afa-2e37-4efe-9435-7751df3ad0e1",
   "metadata": {},
   "source": [
    "```python\n",
    "MoleculeModel(\n",
    "  (sigmoid): Sigmoid()\n",
    "  (encoder): MPN(\n",
    "    (encoder): ModuleList(\n",
    "      (0): MPNEncoder(\n",
    "        (dropout_layer): Dropout(p=0.0, inplace=False)\n",
    "        (act_func): ReLU()\n",
    "        (W_i): Linear(in_features=147, out_features=300, bias=False)\n",
    "        (W_h): Linear(in_features=300, out_features=300, bias=False)\n",
    "        (W_o): Linear(in_features=433, out_features=300, bias=True)\n",
    "      )\n",
    "    )\n",
    "  )\n",
    "  (ffn): Sequential(\n",
    "    (0): Dropout(p=0.0, inplace=False)\n",
    "    (1): Linear(in_features=300, out_features=300, bias=True)\n",
    "    (2): ReLU()\n",
    "    (3): Dropout(p=0.0, inplace=False)\n",
    "    (4): Linear(in_features=300, out_features=1, bias=True)\n",
    "  )\n",
    ")\n",
    "Number of parameters = 355,201\n",
    "```"
   ]
  },
  {
   "cell_type": "markdown",
   "id": "7298a9ac-0c85-4373-9ec2-79aec59c9f6f",
   "metadata": {},
   "source": [
    "**Note: this # of parameters includes \"cached_zero_vector\" (300)** and 354901 = 355201-300"
   ]
  },
  {
   "cell_type": "code",
   "execution_count": 64,
   "id": "4cf078d6-e7d0-453b-8b1e-df76b03b3225",
   "metadata": {},
   "outputs": [
    {
     "data": {
      "text/plain": [
       "354901"
      ]
     },
     "execution_count": 64,
     "metadata": {},
     "output_type": "execute_result"
    }
   ],
   "source": [
    "layers = [\n",
    "    nn.Dropout(p=0.0, inplace=False),\n",
    "    nn.ReLU(),\n",
    "    nn.Linear(in_features=147, out_features=300, bias=False),\n",
    "    nn.Linear(in_features=300, out_features=300, bias=False),\n",
    "    nn.Linear(in_features=433, out_features=300, bias=True),\n",
    "    nn.Dropout(p=0.0, inplace=False),\n",
    "    nn.Linear(in_features=300, out_features=300, bias=True),\n",
    "    nn.ReLU(),\n",
    "    nn.Dropout(p=0.0, inplace=False),\n",
    "    nn.Linear(in_features=300, out_features=1, bias=True)\n",
    "]\n",
    "num_params = 0\n",
    "for l in layers:\n",
    "    num_params += sum(p.numel() for p in l.parameters())\n",
    "num_params"
   ]
  },
  {
   "cell_type": "markdown",
   "id": "a8a85cee-0d99-4f62-b820-a9baa610dd41",
   "metadata": {},
   "source": [
    "```bash\n",
    "Model 0 best validation auc = 0.819074 on epoch 4\n",
    "Loading pretrained parameter \"encoder.encoder.0.cached_zero_vector\".\n",
    "Loading pretrained parameter \"encoder.encoder.0.W_i.weight\".\n",
    "Loading pretrained parameter \"encoder.encoder.0.W_h.weight\".\n",
    "Loading pretrained parameter \"encoder.encoder.0.W_o.weight\".\n",
    "Loading pretrained parameter \"encoder.encoder.0.W_o.bias\".\n",
    "Loading pretrained parameter \"ffn.1.weight\".\n",
    "Loading pretrained parameter \"ffn.1.bias\".\n",
    "Loading pretrained parameter \"ffn.4.weight\".\n",
    "Loading pretrained parameter \"ffn.4.bias\".\n",
    "Moving model to cuda\n",
    "Model 0 test auc = 0.794824                                                                                                 \n",
    "Ensemble test auc = 0.794824\n",
    "1-fold cross validation\n",
    "        Seed 0 ==> test auc = 0.794824\n",
    "Overall test auc = 0.794824 +/- 0.000000\n",
    "Elapsed time = 0:06:50\n",
    "```"
   ]
  }
 ],
 "metadata": {
  "kernelspec": {
   "display_name": "Python 3",
   "language": "python",
   "name": "python3"
  },
  "language_info": {
   "codemirror_mode": {
    "name": "ipython",
    "version": 3
   },
   "file_extension": ".py",
   "mimetype": "text/x-python",
   "name": "python",
   "nbconvert_exporter": "python",
   "pygments_lexer": "ipython3",
   "version": "3.11.7"
  }
 },
 "nbformat": 4,
 "nbformat_minor": 5
}
